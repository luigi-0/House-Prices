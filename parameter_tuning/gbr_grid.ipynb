{
 "cells": [
  {
   "cell_type": "code",
   "execution_count": 39,
   "metadata": {},
   "outputs": [],
   "source": [
    "\"\"\"\n",
    "Created on Mon Mar 25 18:00:45 2019\n",
    "\n",
    "@author: luisgranados\n",
    "\"\"\"\n",
    "import pandas as pd\n",
    "import numpy as np\n",
    "from sklearn.preprocessing import OneHotEncoder\n",
    "import category_encoders as ce\n",
    "from sklearn.preprocessing import StandardScaler\n",
    "from sklearn.impute import SimpleImputer\n",
    "from sklearn.base import BaseEstimator, TransformerMixin\n",
    "from sklearn.pipeline import Pipeline\n",
    "import matplotlib.pyplot as plt\n",
    "import seaborn as sns\n",
    "\n",
    "house_source_data = pd.read_csv(\"train.csv\")\n",
    "house_test = pd.read_csv(\"test.csv\")\n",
    "\n",
    "# Store the label for the training set. \n",
    "house_labels = house_source_data['SalePrice'].copy().drop([691, 1182, 1169, 803, 897, 898, 185, 495, 968,\n",
    "                                                      705, 642, 769, 798, 1046, 440, 190, 608, 1268,\n",
    "                                                      1353, 426, 1423])\n",
    "\n",
    "# A function to calculate Root Mean Squared Logarithmic Error (RMSLE).\n",
    "from sklearn.metrics import mean_squared_log_error\n",
    "\n",
    "def rmsle(y, y_pred):\n",
    "    return np.sqrt(mean_squared_log_error(y, y_pred))\n",
    "\n",
    "# Stage the ratings for the mapper function.\n",
    "# Remember, these are ordinal features.\n",
    "qual_rating_features = ['ExterQual', 'ExterCond', 'BsmtQual', 'BsmtCond',\n",
    "                'HeatingQC', 'KitchenQual', 'FireplaceQu', 'GarageQual',\n",
    "                'GarageCond', 'PoolQC']\n",
    "\n",
    "qual_ordinal_ratings = [\n",
    "        ('Ex',5), \n",
    "        ('Gd',4), \n",
    "        ('TA',3), \n",
    "        ('Fa',2), \n",
    "        ('Po',1), \n",
    "        ('NA',0)\n",
    "    ]\n",
    "\n",
    "# Exposure features need own mapping.\n",
    "exposure_rating_feature = ['BsmtExposure']\n",
    "exposure_ordinal_ratings = [\n",
    "        ('Gd',4), \n",
    "        ('Av',3), \n",
    "        ('Mn',2), \n",
    "        ('No',1), \n",
    "        ('NA',0)\n",
    "    ]\n",
    "\n",
    "electrical_rating_feature = ['Electrical']\n",
    "electrical_ordinal_ratings = [\n",
    "        ('SBrkr',5),\n",
    "        ('FuseA',4),\n",
    "        ('FuseF',3),\n",
    "        ('FuseP',2),\n",
    "        ('Mix',1)\n",
    "    ]\n",
    "\n",
    "functional_rating_feature = ['Functional']\n",
    "functional_ordinal_ratings = [\n",
    "        ('Typ',7), \n",
    "        ('Min1',6), \n",
    "        ('Min2',5), \n",
    "        ('Mod',4), \n",
    "        ('Maj1',3),\n",
    "        ('Maj2',2),\n",
    "        ('Sev',1),\n",
    "        ('Sal',0)\n",
    "    ]\n",
    "\n",
    "# Finish ratings\n",
    "bsmt_finish_rating_features = ['BsmtFinType1', 'BsmtFinType2']\n",
    "bsmtfin_ordinal_ratings = [\n",
    "        ('GLQ',6), \n",
    "        ('ALQ',5), \n",
    "        ('BLQ',4), \n",
    "        ('Rec',3), \n",
    "        ('LwQ',2),\n",
    "        ('Unf',1),\n",
    "        ('NA',0)\n",
    "    ]\n",
    "\n",
    "grg_finish_rating_feature = ['GarageFinish']\n",
    "grgfin_ordinal_ratings = [\n",
    "        ('Fin',3), \n",
    "        ('RFn',2), \n",
    "        ('Unf',1), \n",
    "        ('NA',0)\n",
    "    ]\n",
    "\n",
    "paved_rating_feature = ['PavedDrive']\n",
    "paved_ordinal_ratings = [\n",
    "        ('Y',2), \n",
    "        ('P',1), \n",
    "        ('N',0)\n",
    "    ]\n",
    "\n",
    "fence_rating_feature = ['Fence']\n",
    "fence_ordinal_ratings = [\n",
    "        ('GdPrv',4),\n",
    "        ('MnPrv',3),\n",
    "        ('GdWo',2), \n",
    "        ('MnWw',1),\n",
    "        ('NA',0)\n",
    "    ]\n",
    "\n",
    "alley_rating_feature = ['Alley']\n",
    "alley_ordinal_ratings = [\n",
    "        ('Pave',2),\n",
    "        ('Grvl',1),\n",
    "        ('NA',0)\n",
    "    ]\n",
    "\n",
    "utilities_rating_feature = ['Utilities']\n",
    "utilities_ordinal_ratings = [\n",
    "        ('AllPub',3),\n",
    "        ('NoSewr',2),\n",
    "        ('NoSeWa',1),\n",
    "        ('ELO', 0)\n",
    "    ]\n",
    "\n",
    "# Select categorical features to one-hot-encode.\n",
    "categorial_onehot_features = ['MSZoning',\n",
    "    'Street',\n",
    "    'LotShape',\n",
    "    'LandContour',\n",
    "    'LotConfig',\n",
    "    'LandSlope',\n",
    "    'Neighborhood',\n",
    "    'Condition1',\n",
    "    'Condition2',\n",
    "    'BldgType',\n",
    "    'HouseStyle',\n",
    "    'RoofStyle',\n",
    "    'RoofMatl',\n",
    "    'Exterior1st',\n",
    "    'Exterior2nd',\n",
    "    'MasVnrType',\n",
    "    'Foundation',\n",
    "    'Heating',\n",
    "    'CentralAir',\n",
    "    'GarageType',\n",
    "    'SaleType',\n",
    "    'SaleCondition'\n",
    "    ]\n",
    "\n",
    "selected_categorical_onehot = [\n",
    "    'MSZoning',\n",
    "    'Street',\n",
    "    #'LandContour',\n",
    "    #'LotConfig',\n",
    "    #'LandSlope',\n",
    "    'Neighborhood',\n",
    "    'Condition1',\n",
    "    'Condition2',\n",
    "    #'BldgType', # might still keep this one\n",
    "    'HouseStyle',\n",
    "    'RoofStyle',\n",
    "    #'RoofMatl',\n",
    "    'Exterior1st',\n",
    "    #'Exterior2nd', #might keep this\n",
    "    #'MasVnrType',\n",
    "    #'Heating',\n",
    "    'CentralAir',\n",
    "    'GarageType',\n",
    "    'SaleType',\n",
    "    'SaleCondition'      \n",
    "]\n",
    "\n",
    "# Use this function for generating new ones. I can't generalize this part \n",
    "# because of all the potentially different ways to create each feature.\n",
    "# but this will allow me to do the same generation for the test set.\n",
    "def generator(dataframe):\n",
    "    \"\"\"Generate new features.\"\"\"\n",
    "    new_dataframe = dataframe.copy()\n",
    "    \n",
    "    #new_dataframe['LotArea_sqrd'] = new_dataframe['LotArea']**2\n",
    "    \n",
    "    new_dataframe['yard_size'] = new_dataframe['LotArea'] - (new_dataframe['1stFlrSF'] + new_dataframe['GarageArea'])\n",
    "    \n",
    "    new_dataframe['yard_size_sqrd'] = new_dataframe['yard_size']**2\n",
    "    \n",
    "    new_dataframe['yard_size_cubed'] = new_dataframe['yard_size']**3\n",
    "    \n",
    "    new_dataframe['YearBuilt_sqrd'] = new_dataframe['YearBuilt']**2\n",
    "    \n",
    "    new_dataframe['YearBuilt_cubed'] = new_dataframe['YearBuilt']**3\n",
    "    \n",
    "    new_dataframe['total_sqft'] = (new_dataframe['2ndFlrSF'] + new_dataframe['TotalBsmtSF'] + \n",
    "                                   new_dataframe['1stFlrSF'] + new_dataframe['GarageArea'])\n",
    "    \n",
    "    new_dataframe['total_house_sqft'] = (new_dataframe['2ndFlrSF'] + new_dataframe['TotalBsmtSF'] + \n",
    "                                   new_dataframe['1stFlrSF'])\n",
    "    \n",
    "    new_dataframe['total_bathrooms'] = (new_dataframe['FullBath'] + (0.5 * new_dataframe['HalfBath']) +\n",
    "                               new_dataframe['BsmtFullBath'] + (0.5 * new_dataframe['BsmtHalfBath']))\n",
    "    \n",
    "    #new_dataframe['total_sqft_sqrd'] = new_dataframe['total_sqft']**2\n",
    "    \n",
    "    #new_dataframe['total_sqft_cubed'] = new_dataframe['total_sqft']**3\n",
    "    \n",
    "    new_dataframe['liv_area_interaction'] = new_dataframe['GrLivArea'] * new_dataframe['total_sqft']\n",
    "    \n",
    "    new_dataframe['liv_area_interaction_sqrd'] = new_dataframe['liv_area_interaction']**2\n",
    "    \n",
    "    #new_dataframe['liv_area_interaction_cubed'] = new_dataframe['liv_area_interaction']**3\n",
    "    \n",
    "    new_dataframe['housesqft_qual_inter'] = new_dataframe['total_sqft'] * new_dataframe['OverallQual']\n",
    "    \n",
    "    new_dataframe['OverallCond_Qual_inter'] = new_dataframe['OverallCond'] * new_dataframe['OverallQual']\n",
    "    \n",
    "    new_dataframe['Garage_sqft_sqrd'] = new_dataframe['GarageArea']**2\n",
    "    \n",
    "    #new_dataframe['Garage_sqft_cubed'] = new_dataframe['GarageArea']**3\n",
    "    \n",
    "    new_dataframe['Garage_CQ_inter'] = (new_dataframe['GarageQual'] * new_dataframe['GarageCond'] *\n",
    "                                       new_dataframe['GarageCars'] * new_dataframe['GarageArea'])\n",
    "    \n",
    "    new_dataframe['Outdoor_lounging'] = (new_dataframe['EnclosedPorch'] + new_dataframe['OpenPorchSF'] * \n",
    "                                         new_dataframe['WoodDeckSF'] + new_dataframe['3SsnPorch'] +\n",
    "                                         new_dataframe['ScreenPorch'])\n",
    "    \n",
    "    #new_dataframe['Outdoor_lounging_sqrd'] = new_dataframe['Outdoor_lounging']**2\n",
    "    \n",
    "    #new_dataframe['Outdoor_lounging_cubed'] = new_dataframe['Outdoor_lounging']**3\n",
    "    \n",
    "    new_dataframe['outdoor_inter'] = new_dataframe['Outdoor_lounging'] * new_dataframe['yard_size']\n",
    "    \n",
    "    #new_dataframe['RoomQual_inter'] = new_dataframe['TotRmsAbvGrd'] * new_dataframe['OverallQual']\n",
    "    \n",
    "    #new_dataframe['BedroomAbvGr_sqrd'] = new_dataframe['BedroomAbvGr']**2\n",
    "    \n",
    "    #new_dataframe['BedroomAbvGr_cubed'] = new_dataframe['BedroomAbvGr']**3\n",
    "    \n",
    "    new_dataframe['Exter_inter'] = new_dataframe['ExterCond'] * new_dataframe['ExterQual'] * new_dataframe['MasVnrArea']\n",
    " \n",
    "    new_dataframe['KitchenAbvGr_sqrd'] = new_dataframe['KitchenAbvGr']**2\n",
    "    \n",
    "    new_dataframe['kitchen_inter'] = new_dataframe['KitchenAbvGr'] * new_dataframe['KitchenQual']\n",
    "    \n",
    "    new_dataframe['bsmt_qual_inter'] = (new_dataframe['BsmtQual'] * new_dataframe['BsmtCond'] * \n",
    "                                        new_dataframe['TotalBsmtSF'])\n",
    "\n",
    "    new_dataframe['BsmtQual_sqrd'] = new_dataframe['BsmtQual']**2\n",
    "    \n",
    "    new_dataframe['BsmtQual_cubed'] = new_dataframe['BsmtQual']**3\n",
    "    \n",
    "    new_dataframe['BsmtUnfSF_sqrd'] = new_dataframe['BsmtUnfSF']**2\n",
    "    \n",
    "    new_dataframe['BsmtUnfSF_cubed'] = new_dataframe['BsmtUnfSF']**3\n",
    "    \n",
    "    new_dataframe['BsmtFinSF2_sqrd'] = new_dataframe['BsmtFinSF2']**2\n",
    "    \n",
    "    new_dataframe['BsmtFinSF2_cubed'] = new_dataframe['BsmtFinSF2']**3\n",
    "    \n",
    "    #new_dataframe['bath_inter'] = (new_dataframe['OverallCond'] * new_dataframe['FullBath'] *\n",
    "    #                              new_dataframe['OverallQual'])\n",
    "    \n",
    "    new_dataframe['fireplace_inter'] = new_dataframe['Fireplaces'] * new_dataframe['FireplaceQu']\n",
    "    \n",
    "    return new_dataframe\n",
    "\n",
    "def mapper(data_in, features, ratings):\n",
    "    \"\"\"Map ordinal ratings to numeric ranking.\"\"\"\n",
    "    counter = 0\n",
    "    for feature in features:\n",
    "        ordinal_mapping = [{\n",
    "            \"col\":feature,    \n",
    "            \"mapping\": ratings},\n",
    "        ]\n",
    "\n",
    "        encoder = ce.OrdinalEncoder(mapping = ordinal_mapping, \n",
    "                                    return_df = True, cols = feature)\n",
    "        if counter == 0:\n",
    "            df_train = encoder.fit_transform(data_in.copy())\n",
    "        else:\n",
    "            df_train = encoder.fit_transform(df_train)\n",
    "        counter += 1\n",
    "    return df_train\n",
    "\n",
    "def data_staging(data_in):\n",
    "    \"\"\"Create preliminary training set.\"\"\"\n",
    "    data_frame = data_in.copy()\n",
    "    \n",
    "    # Fill in the null values with None.\n",
    "    category_data = data_frame.copy().select_dtypes(exclude='number').fillna(value='None')\n",
    "\n",
    "    # Fill in null values with 0.\n",
    "    numeric_data = (data_frame\n",
    "             .loc[:, data_frame.copy().columns != 'LotFrontage']\n",
    "             .select_dtypes(include='number')\n",
    "             .fillna(value=0)\n",
    "            )\n",
    "\n",
    "    # Re-merge the two datasets. Drop label and unneeded features.\n",
    "    data_in_cleaned = (category_data\n",
    "                         .merge(numeric_data, how='outer',\n",
    "                                left_index=True, right_index=True)\n",
    "                         .drop(columns=['SalePrice', 'MiscFeature', 'Id'], errors='ignore')\n",
    "                        )\n",
    "    data_in_cleaned = pd.concat([data_in_cleaned, data_in['LotFrontage']], axis=1)\n",
    "    \n",
    "    data_in_cleaned = mapper(data_in_cleaned, qual_rating_features, qual_ordinal_ratings)\n",
    "    data_in_cleaned = mapper(data_in_cleaned, bsmt_finish_rating_features, bsmtfin_ordinal_ratings)\n",
    "    data_in_cleaned = mapper(data_in_cleaned, exposure_rating_feature, exposure_ordinal_ratings)\n",
    "    data_in_cleaned = mapper(data_in_cleaned, electrical_rating_feature, electrical_ordinal_ratings)\n",
    "    data_in_cleaned = mapper(data_in_cleaned, functional_rating_feature, functional_ordinal_ratings)\n",
    "    data_in_cleaned = mapper(data_in_cleaned, grg_finish_rating_feature, grgfin_ordinal_ratings)\n",
    "    data_in_cleaned = mapper(data_in_cleaned, paved_rating_feature, paved_ordinal_ratings)\n",
    "    data_in_cleaned = mapper(data_in_cleaned, fence_rating_feature, fence_ordinal_ratings)\n",
    "    data_in_cleaned = mapper(data_in_cleaned, alley_rating_feature, alley_ordinal_ratings)\n",
    "    data_in_cleaned = mapper(data_in_cleaned, utilities_rating_feature, utilities_ordinal_ratings)\n",
    "    \n",
    "    # Generate new features.\n",
    "    data_in_cleaned = generator(data_in_cleaned)\n",
    "    \n",
    "    return data_in_cleaned\n",
    "\n",
    "# Create the preliminary training set. This is for analysis.\n",
    "# numeric attributes get pulled from here.\n",
    "\n",
    "features_to_drop = ['MoSold', 'YrSold', 'BsmtFinType2', '3SsnPorch', 'BsmtFinSF2',\n",
    "                   'BsmtHalfBath', 'PoolArea', 'ExterCond', 'MiscVal',\n",
    "                   'LowQualFinSF', 'OverallCond', 'Alley', 'EnclosedPorch',\n",
    "                   'KitchenAbvGr', 'Fence', 'Functional', 'ScreenPorch', 'PoolQC',\n",
    "                   'BedroomAbvGr', 'BsmtCond', 'BsmtUnfSF', 'Utilities',\n",
    "                   'GarageYrBlt']\n",
    "\n",
    "house_train_staging = data_staging(house_source_data.copy()).drop(columns=features_to_drop).drop([691, 1182, 1169, 803, 897, 898, 185, 495, 968,\n",
    "                                                      705, 642, 769, 798, 1046, 440, 190, 608, 1268,\n",
    "                                                      1353, 426, 1423])\n",
    "\n",
    "house_test_staging = data_staging(house_test.copy()).drop(columns=features_to_drop)\n",
    "\n",
    "# Store all the numeric type column names for DataFrameSelector(). \n",
    "# MSSubClass gets encoded, so it gets droped from the numeric list of features to process.\n",
    "numeric_features = list(house_train_staging.select_dtypes(include='number').columns)\n",
    "\n",
    "from sklearn.compose import ColumnTransformer\n",
    "from sklearn.preprocessing import PolynomialFeatures\n",
    "\n",
    "numeric_transformer = Pipeline(steps=[\n",
    "    ('imputer', SimpleImputer(strategy='median')),\n",
    "    ('scaler', StandardScaler())])\n",
    "\n",
    "categorical_transformer = Pipeline(steps=[\n",
    "    ('onehot', OneHotEncoder(handle_unknown='ignore', sparse=False))])\n",
    "\n",
    "preprocessor = ColumnTransformer(\n",
    "    transformers=[\n",
    "        ('num', numeric_transformer, numeric_features),\n",
    "        ('onehot', OneHotEncoder(handle_unknown='ignore', sparse=False), selected_categorical_onehot)\n",
    "    ])\n",
    "\n",
    "house_train = preprocessor.fit_transform(house_train_staging.copy())\n",
    "house_test_data = preprocessor.transform(house_test_staging.copy())\n",
    "\n",
    "from sklearn.linear_model import Ridge\n",
    "from sklearn.linear_model import Lasso\n",
    "from sklearn.linear_model import ElasticNet\n",
    "from sklearn.model_selection import cross_val_score\n",
    "from sklearn.model_selection import GridSearchCV\n",
    "\n",
    "seed = 42\n",
    "np.random.seed(seed)"
   ]
  },
  {
   "cell_type": "code",
   "execution_count": 1177,
   "metadata": {
    "scrolled": true
   },
   "outputs": [
    {
     "data": {
      "text/plain": [
       "0       12.247699\n",
       "1       12.109016\n",
       "2       12.317171\n",
       "3       11.849405\n",
       "4       12.429220\n",
       "5       11.870607\n",
       "6       12.634606\n",
       "7       12.206078\n",
       "8       11.774528\n",
       "9       11.678448\n",
       "10      11.771444\n",
       "11      12.751303\n",
       "12      11.877576\n",
       "13      12.540761\n",
       "14      11.964007\n",
       "15      11.790565\n",
       "16      11.911708\n",
       "17      11.407576\n",
       "18      11.976666\n",
       "19      11.842236\n",
       "20      12.692506\n",
       "21      11.845110\n",
       "22      12.345839\n",
       "23      11.774528\n",
       "24      11.944714\n",
       "25      12.454108\n",
       "26      11.811555\n",
       "27      12.631344\n",
       "28      12.242891\n",
       "29      11.134604\n",
       "          ...    \n",
       "1430    12.165985\n",
       "1431    11.875838\n",
       "1432    11.074436\n",
       "1433    12.136192\n",
       "1434    11.982935\n",
       "1435    12.066816\n",
       "1436    11.699413\n",
       "1437    12.885673\n",
       "1438    11.916395\n",
       "1439    12.190964\n",
       "1440    12.160034\n",
       "1441    11.913720\n",
       "1442    12.644331\n",
       "1443    11.703554\n",
       "1444    12.098493\n",
       "1445    11.767575\n",
       "1446    11.969724\n",
       "1447    12.388398\n",
       "1448    11.626263\n",
       "1449    11.429555\n",
       "1450    11.820418\n",
       "1451    12.567555\n",
       "1452    11.884496\n",
       "1453    11.344519\n",
       "1454    12.128117\n",
       "1455    12.072547\n",
       "1456    12.254868\n",
       "1457    12.493133\n",
       "1458    11.864469\n",
       "1459    11.901590\n",
       "Name: SalePrice, Length: 1460, dtype: float64"
      ]
     },
     "execution_count": 1177,
     "metadata": {},
     "output_type": "execute_result"
    }
   ],
   "source": [
    "house_source_data[\"SalePrice\"]"
   ]
  },
  {
   "cell_type": "code",
   "execution_count": 847,
   "metadata": {},
   "outputs": [
    {
     "data": {
      "text/plain": [
       "20     536\n",
       "60     299\n",
       "50     144\n",
       "120     87\n",
       "30      69\n",
       "160     63\n",
       "70      60\n",
       "80      58\n",
       "90      52\n",
       "190     30\n",
       "85      20\n",
       "75      16\n",
       "45      12\n",
       "180     10\n",
       "40       4\n",
       "Name: MSSubClass, dtype: int64"
      ]
     },
     "execution_count": 847,
     "metadata": {},
     "output_type": "execute_result"
    }
   ],
   "source": [
    "house_source_data['MSSubClass'].value_counts()"
   ]
  },
  {
   "cell_type": "code",
   "execution_count": 1012,
   "metadata": {
    "scrolled": true
   },
   "outputs": [
    {
     "data": {
      "text/plain": [
       "<matplotlib.axes._subplots.AxesSubplot at 0x1a3097d908>"
      ]
     },
     "execution_count": 1012,
     "metadata": {},
     "output_type": "execute_result"
    },
    {
     "data": {
      "image/png": "[encoded data removed]",
      "text/plain": [
       "<Figure size 432x288 with 1 Axes>"
      ]
     },
     "metadata": {
      "needs_background": "light"
     },
     "output_type": "display_data"
    }
   ],
   "source": [
    "sns.boxplot(house_train_staging['MSSubClass'], house_source_data['SalePrice'])"
   ]
  },
  {
   "cell_type": "code",
   "execution_count": 864,
   "metadata": {
    "collapsed": true
   },
   "outputs": [
    {
     "data": {
      "text/html": [
       "<div>\n",
       "<style scoped>\n",
       "    .dataframe tbody tr th:only-of-type {\n",
       "        vertical-align: middle;\n",
       "    }\n",
       "\n",
       "    .dataframe tbody tr th {\n",
       "        vertical-align: top;\n",
       "    }\n",
       "\n",
       "    .dataframe thead th {\n",
       "        text-align: right;\n",
       "    }\n",
       "</style>\n",
       "<table border=\"1\" class=\"dataframe\">\n",
       "  <thead>\n",
       "    <tr style=\"text-align: right;\">\n",
       "      <th></th>\n",
       "      <th>MSSubClass</th>\n",
       "      <th>SalePrice</th>\n",
       "    </tr>\n",
       "  </thead>\n",
       "  <tbody>\n",
       "    <tr>\n",
       "      <th>count</th>\n",
       "      <td>299.0</td>\n",
       "      <td>299.000000</td>\n",
       "    </tr>\n",
       "    <tr>\n",
       "      <th>mean</th>\n",
       "      <td>60.0</td>\n",
       "      <td>239948.501672</td>\n",
       "    </tr>\n",
       "    <tr>\n",
       "      <th>std</th>\n",
       "      <td>0.0</td>\n",
       "      <td>86579.909966</td>\n",
       "    </tr>\n",
       "    <tr>\n",
       "      <th>min</th>\n",
       "      <td>60.0</td>\n",
       "      <td>129000.000000</td>\n",
       "    </tr>\n",
       "    <tr>\n",
       "      <th>25%</th>\n",
       "      <td>60.0</td>\n",
       "      <td>185000.000000</td>\n",
       "    </tr>\n",
       "    <tr>\n",
       "      <th>50%</th>\n",
       "      <td>60.0</td>\n",
       "      <td>215200.000000</td>\n",
       "    </tr>\n",
       "    <tr>\n",
       "      <th>75%</th>\n",
       "      <td>60.0</td>\n",
       "      <td>268750.000000</td>\n",
       "    </tr>\n",
       "    <tr>\n",
       "      <th>max</th>\n",
       "      <td>60.0</td>\n",
       "      <td>755000.000000</td>\n",
       "    </tr>\n",
       "  </tbody>\n",
       "</table>\n",
       "</div>"
      ],
      "text/plain": [
       "       MSSubClass      SalePrice\n",
       "count       299.0     299.000000\n",
       "mean         60.0  239948.501672\n",
       "std           0.0   86579.909966\n",
       "min          60.0  129000.000000\n",
       "25%          60.0  185000.000000\n",
       "50%          60.0  215200.000000\n",
       "75%          60.0  268750.000000\n",
       "max          60.0  755000.000000"
      ]
     },
     "execution_count": 864,
     "metadata": {},
     "output_type": "execute_result"
    }
   ],
   "source": [
    "house_source_data[['MSSubClass', 'SalePrice']].loc[house_source_data['MSSubClass']==75].describe()"
   ]
  },
  {
   "cell_type": "code",
   "execution_count": 1018,
   "metadata": {},
   "outputs": [
    {
     "data": {
      "text/html": [
       "<div>\n",
       "<style scoped>\n",
       "    .dataframe tbody tr th:only-of-type {\n",
       "        vertical-align: middle;\n",
       "    }\n",
       "\n",
       "    .dataframe tbody tr th {\n",
       "        vertical-align: top;\n",
       "    }\n",
       "\n",
       "    .dataframe thead th {\n",
       "        text-align: right;\n",
       "    }\n",
       "</style>\n",
       "<table border=\"1\" class=\"dataframe\">\n",
       "  <thead>\n",
       "    <tr style=\"text-align: right;\">\n",
       "      <th></th>\n",
       "      <th>SalePrice</th>\n",
       "    </tr>\n",
       "  </thead>\n",
       "  <tbody>\n",
       "    <tr>\n",
       "      <th>178</th>\n",
       "      <td>501837</td>\n",
       "    </tr>\n",
       "    <tr>\n",
       "      <th>278</th>\n",
       "      <td>415298</td>\n",
       "    </tr>\n",
       "    <tr>\n",
       "      <th>473</th>\n",
       "      <td>440000</td>\n",
       "    </tr>\n",
       "    <tr>\n",
       "      <th>496</th>\n",
       "      <td>430000</td>\n",
       "    </tr>\n",
       "    <tr>\n",
       "      <th>515</th>\n",
       "      <td>402861</td>\n",
       "    </tr>\n",
       "    <tr>\n",
       "      <th>664</th>\n",
       "      <td>423000</td>\n",
       "    </tr>\n",
       "    <tr>\n",
       "      <th>1243</th>\n",
       "      <td>465000</td>\n",
       "    </tr>\n",
       "    <tr>\n",
       "      <th>1373</th>\n",
       "      <td>466500</td>\n",
       "    </tr>\n",
       "  </tbody>\n",
       "</table>\n",
       "</div>"
      ],
      "text/plain": [
       "      SalePrice\n",
       "178      501837\n",
       "278      415298\n",
       "473      440000\n",
       "496      430000\n",
       "515      402861\n",
       "664      423000\n",
       "1243     465000\n",
       "1373     466500"
      ]
     },
     "execution_count": 1018,
     "metadata": {},
     "output_type": "execute_result"
    }
   ],
   "source": [
    "house_train_staging[['SalePrice']].loc[(house_train_staging['MSSubClass'] == 20) & (house_train_staging['SalePrice'] > 400000)]"
   ]
  },
  {
   "cell_type": "code",
   "execution_count": 2,
   "metadata": {},
   "outputs": [],
   "source": [
    "import matplotlib.pyplot as plt\n",
    "import seaborn as sns\n",
    "%matplotlib inline"
   ]
  },
  {
   "cell_type": "code",
   "execution_count": 94,
   "metadata": {},
   "outputs": [],
   "source": [
    "# A function to calculate Root Mean Squared Logarithmic Error (RMSLE).\n",
    "from sklearn.metrics import mean_squared_log_error\n",
    "\n",
    "def rmsle(y, y_pred):\n",
    "    return np.sqrt(mean_squared_log_error(y, y_pred))"
   ]
  },
  {
   "cell_type": "code",
   "execution_count": 13,
   "metadata": {
    "scrolled": true
   },
   "outputs": [
    {
     "name": "stdout",
     "output_type": "stream",
     "text": [
      "Results: 587,682,404.92609322 \n"
     ]
    },
    {
     "name": "stderr",
     "output_type": "stream",
     "text": [
      "/anaconda3/envs/Kaggle/lib/python3.6/site-packages/sklearn/model_selection/_search.py:841: DeprecationWarning: The default of the `iid` parameter will change from True to False in version 0.22 and will be removed in 0.24. This will change numeric results when test-set sizes are unequal.\n",
      "  DeprecationWarning)\n"
     ]
    }
   ],
   "source": [
    "lasso_pipe = Pipeline(steps=[('preprocessor', preprocessor), \n",
    "                             ('lasso', Lasso(selection='random', random_state=np.random.seed(seed)))])\n",
    "\n",
    "lasso_param_grid = {'lasso__alpha' : [1000, 1100, 1200, 1300, 1400, 1500, 2000, 3000]}\n",
    "\n",
    "lasso_grid = GridSearchCV(lasso_pipe, param_grid=lasso_param_grid, cv=5, scoring='neg_mean_squared_error', n_jobs=-1)\n",
    "\n",
    "lasso_grid.fit(house_train_staging.copy(), house_labels)\n",
    "\n",
    "lasso_grid_pred = lasso_grid.best_estimator_.named_steps['lasso'].predict(house_train)\n",
    "\n",
    "lasso_rmse = rmsle(house_labels, lasso_grid_pred)\n",
    "\n",
    "lasso_grid_best = lasso_grid.best_estimator_.named_steps['lasso']\n",
    "\n",
    "print('Results: {:,.8f} '.format(-lasso_grid.best_score_, lasso_rmse))"
   ]
  },
  {
   "cell_type": "code",
   "execution_count": 1151,
   "metadata": {},
   "outputs": [
    {
     "name": "stdout",
     "output_type": "stream",
     "text": [
      "Results: 0.01633323 \n"
     ]
    }
   ],
   "source": [
    "print('Results: {:,.8f} '.format(-lasso_grid.best_score_))"
   ]
  },
  {
   "cell_type": "code",
   "execution_count": 9,
   "metadata": {},
   "outputs": [
    {
     "data": {
      "text/plain": [
       "{'lasso__alpha': 1400}"
      ]
     },
     "execution_count": 9,
     "metadata": {},
     "output_type": "execute_result"
    }
   ],
   "source": [
    "lasso_grid.best_params_"
   ]
  },
  {
   "cell_type": "code",
   "execution_count": 15,
   "metadata": {},
   "outputs": [
    {
     "name": "stdout",
     "output_type": "stream",
     "text": [
      "Results: 557,276,141.94993544\n"
     ]
    },
    {
     "name": "stderr",
     "output_type": "stream",
     "text": [
      "/anaconda3/envs/Kaggle/lib/python3.6/site-packages/sklearn/model_selection/_search.py:841: DeprecationWarning: The default of the `iid` parameter will change from True to False in version 0.22 and will be removed in 0.24. This will change numeric results when test-set sizes are unequal.\n",
      "  DeprecationWarning)\n"
     ]
    }
   ],
   "source": [
    "ridge_pipe = Pipeline(steps=[('preprocessor', preprocessor), \n",
    "                             ('rig', Ridge(random_state=np.random.seed(seed)))])\n",
    "\n",
    "ridge_param_grid = {'rig__alpha' : [90, 100, 110, 120, 130, 140, 150, 200, 300, 400, 500]}\n",
    "\n",
    "ridge_grid = GridSearchCV(ridge_pipe, param_grid=ridge_param_grid, cv=5, scoring='neg_mean_squared_error', n_jobs=-1)\n",
    "\n",
    "ridge_grid.fit(house_train_staging.copy(), house_labels)\n",
    "\n",
    "ridge_grid_pred = ridge_grid.best_estimator_.named_steps['rig'].predict(house_train)\n",
    "\n",
    "ridge_grid_best = ridge_grid.best_estimator_.named_steps['rig']\n",
    "\n",
    "print('Results: {:,.8f}'.format(-ridge_grid.best_score_))"
   ]
  },
  {
   "cell_type": "code",
   "execution_count": 16,
   "metadata": {},
   "outputs": [
    {
     "data": {
      "text/plain": [
       "{'rig__alpha': 140}"
      ]
     },
     "execution_count": 16,
     "metadata": {},
     "output_type": "execute_result"
    }
   ],
   "source": [
    "ridge_grid.best_params_"
   ]
  },
  {
   "cell_type": "code",
   "execution_count": 17,
   "metadata": {},
   "outputs": [
    {
     "data": {
      "text/plain": [
       "<matplotlib.axes._subplots.AxesSubplot at 0x1a1fcb6fd0>"
      ]
     },
     "execution_count": 17,
     "metadata": {},
     "output_type": "execute_result"
    },
    {
     "data": {
      "image/png": "[encoded data removed]",
      "text/plain": [
       "<Figure size 432x288 with 1 Axes>"
      ]
     },
     "metadata": {
      "needs_background": "light"
     },
     "output_type": "display_data"
    }
   ],
   "source": [
    "sns.scatterplot(lasso_grid_pred, house_labels)"
   ]
  },
  {
   "cell_type": "code",
   "execution_count": 14,
   "metadata": {},
   "outputs": [
    {
     "data": {
      "text/plain": [
       "<matplotlib.axes._subplots.AxesSubplot at 0x1a222c6c50>"
      ]
     },
     "execution_count": 14,
     "metadata": {},
     "output_type": "execute_result"
    },
    {
     "data": {
      "image/png": "[encoded data removed]",
      "text/plain": [
       "<Figure size 432x288 with 1 Axes>"
      ]
     },
     "metadata": {
      "needs_background": "light"
     },
     "output_type": "display_data"
    }
   ],
   "source": [
    "sns.scatterplot(ridge_grid_pred, house_labels)"
   ]
  },
  {
   "cell_type": "code",
   "execution_count": 1105,
   "metadata": {},
   "outputs": [
    {
     "data": {
      "text/plain": [
       "<matplotlib.axes._subplots.AxesSubplot at 0x1a33891828>"
      ]
     },
     "execution_count": 1105,
     "metadata": {},
     "output_type": "execute_result"
    },
    {
     "data": {
      "image/png": "[encoded data removed]",
      "text/plain": [
       "<Figure size 432x288 with 1 Axes>"
      ]
     },
     "metadata": {
      "needs_background": "light"
     },
     "output_type": "display_data"
    }
   ],
   "source": [
    "#fig, ax = plt.subplot()\n",
    "sns.scatterplot(rf_grid_pred, house_labels)"
   ]
  },
  {
   "cell_type": "code",
   "execution_count": 1106,
   "metadata": {},
   "outputs": [
    {
     "data": {
      "text/plain": [
       "<matplotlib.axes._subplots.AxesSubplot at 0x1a35208dd8>"
      ]
     },
     "execution_count": 1106,
     "metadata": {},
     "output_type": "execute_result"
    },
    {
     "data": {
      "image/png": "[encoded data removed]",
      "text/plain": [
       "<Figure size 432x288 with 1 Axes>"
      ]
     },
     "metadata": {
      "needs_background": "light"
     },
     "output_type": "display_data"
    }
   ],
   "source": [
    "sns.scatterplot(gbr_grid_pred, house_labels)"
   ]
  },
  {
   "cell_type": "code",
   "execution_count": 1108,
   "metadata": {},
   "outputs": [
    {
     "data": {
      "text/plain": [
       "<matplotlib.axes._subplots.AxesSubplot at 0x1a353529e8>"
      ]
     },
     "execution_count": 1108,
     "metadata": {},
     "output_type": "execute_result"
    },
    {
     "data": {
      "image/png": "[encoded data removed]",
      "text/plain": [
       "<Figure size 432x288 with 1 Axes>"
      ]
     },
     "metadata": {
      "needs_background": "light"
     },
     "output_type": "display_data"
    }
   ],
   "source": [
    "sns.scatterplot(svm_grid_pred, house_labels)"
   ]
  },
  {
   "cell_type": "code",
   "execution_count": 768,
   "metadata": {},
   "outputs": [
    {
     "name": "stdout",
     "output_type": "stream",
     "text": [
      "Results: 0.888014\n"
     ]
    }
   ],
   "source": [
    "print('Results: {:8f}'.format(ridge_grid.best_score_))"
   ]
  },
  {
   "cell_type": "code",
   "execution_count": 1064,
   "metadata": {},
   "outputs": [
    {
     "name": "stdout",
     "output_type": "stream",
     "text": [
      "Results: 556,846,546.02392399 0.125626\n"
     ]
    },
    {
     "name": "stderr",
     "output_type": "stream",
     "text": [
      "/anaconda3/envs/Kaggle/lib/python3.6/site-packages/sklearn/model_selection/_search.py:841: DeprecationWarning: The default of the `iid` parameter will change from True to False in version 0.22 and will be removed in 0.24. This will change numeric results when test-set sizes are unequal.\n",
      "  DeprecationWarning)\n"
     ]
    }
   ],
   "source": [
    "elastic_pipe = Pipeline(steps=[('preprocessor', preprocessor), \n",
    "                               ('elastic', ElasticNet(normalize=False,random_state=np.random.seed(seed)))])\n",
    "\n",
    "elastic_param_grid = {'elastic__alpha' : [0.01, 0.1, 0.2, 0.3, 0.4, 0.5, 0.6, 0.7, 0.8, 0.9],\n",
    "                      'elastic__l1_ratio' : [0.2, 0.3, 0.4, 0.5, 0.85, 0.95, 0.9, 1.0]}\n",
    "\n",
    "elastic_grid = GridSearchCV(elastic_pipe, param_grid=elastic_param_grid, cv=5, scoring='neg_mean_squared_error', n_jobs=-1)\n",
    "\n",
    "elastic_grid.fit(house_train_staging.copy(), house_labels)\n",
    "\n",
    "elastic_grid_pred = elastic_grid.best_estimator_.named_steps['elastic'].predict(house_train)\n",
    "\n",
    "elastic_rmse = rmsle(house_labels, elastic_grid_pred)\n",
    "\n",
    "elastic_grid_best = elastic_grid.best_estimator_.named_steps['elastic']\n",
    "\n",
    "print('Results: {:,.8f} {:8f}'.format(-elastic_grid.best_score_, elastic_rmse))"
   ]
  },
  {
   "cell_type": "code",
   "execution_count": 1035,
   "metadata": {},
   "outputs": [
    {
     "name": "stdout",
     "output_type": "stream",
     "text": [
      "Results: 0.889347 0.125626\n"
     ]
    }
   ],
   "source": [
    "print('Results: {:8f} {:8f}'.format(elastic_grid.best_score_, elastic_rmse))"
   ]
  },
  {
   "cell_type": "code",
   "execution_count": 1065,
   "metadata": {},
   "outputs": [
    {
     "data": {
      "text/plain": [
       "{'elastic__alpha': 0.2, 'elastic__l1_ratio': 0.4}"
      ]
     },
     "execution_count": 1065,
     "metadata": {},
     "output_type": "execute_result"
    }
   ],
   "source": [
    "elastic_grid.best_params_"
   ]
  },
  {
   "cell_type": "code",
   "execution_count": 24,
   "metadata": {},
   "outputs": [
    {
     "name": "stdout",
     "output_type": "stream",
     "text": [
      "Results: 513,636,359.10026646 0.054028\n"
     ]
    }
   ],
   "source": [
    "from sklearn.svm import SVR\n",
    "\n",
    "svm_pipe = Pipeline(steps=[('preprocessor', preprocessor), ('svm', SVR(gamma='scale'))])\n",
    "\n",
    "svm_param_grid =  {'svm__C' : [70000, 80000, 90000, 100000, 150000],\n",
    "                   'svm__epsilon' : [1400, 1500, 2000, 3000, 4000, 5000]}\n",
    "\n",
    "svm_grid = GridSearchCV(svm_pipe, param_grid=svm_param_grid, cv=5, scoring='neg_mean_squared_error', n_jobs=-1)\n",
    "\n",
    "svm_grid.fit(house_train_staging.copy(), house_labels)\n",
    "\n",
    "svm_grid_pred = svm_grid.best_estimator_.named_steps['svm'].predict(house_train)\n",
    "\n",
    "svm_rmse = rmsle(house_labels, svm_grid_pred)\n",
    "\n",
    "svm_grid_best = svm_grid.best_estimator_.named_steps['svm']\n",
    "\n",
    "print('Results: {:,.8f} {:8f}'.format(-svm_grid.best_score_, svm_rmse))"
   ]
  },
  {
   "cell_type": "code",
   "execution_count": 946,
   "metadata": {},
   "outputs": [
    {
     "name": "stdout",
     "output_type": "stream",
     "text": [
      "Results: 0.892760 0.048491\n"
     ]
    }
   ],
   "source": [
    "print('Results: {:8f} {:8f}'.format(svm_grid.best_score_, svm_rmse))"
   ]
  },
  {
   "cell_type": "code",
   "execution_count": 25,
   "metadata": {},
   "outputs": [
    {
     "data": {
      "text/plain": [
       "{'svm__C': 150000, 'svm__epsilon': 1500}"
      ]
     },
     "execution_count": 25,
     "metadata": {},
     "output_type": "execute_result"
    }
   ],
   "source": [
    "svm_grid.best_params_"
   ]
  },
  {
   "cell_type": "code",
   "execution_count": 26,
   "metadata": {},
   "outputs": [
    {
     "name": "stderr",
     "output_type": "stream",
     "text": [
      "/anaconda3/envs/Kaggle/lib/python3.6/site-packages/sklearn/externals/joblib/externals/loky/process_executor.py:706: UserWarning: A worker stopped while some jobs were given to the executor. This can be caused by a too short worker timeout or by a memory leak.\n",
      "  \"timeout or by a memory leak.\", UserWarning\n",
      "/anaconda3/envs/Kaggle/lib/python3.6/site-packages/sklearn/externals/joblib/externals/loky/process_executor.py:706: UserWarning: A worker stopped while some jobs were given to the executor. This can be caused by a too short worker timeout or by a memory leak.\n",
      "  \"timeout or by a memory leak.\", UserWarning\n",
      "/anaconda3/envs/Kaggle/lib/python3.6/site-packages/sklearn/externals/joblib/externals/loky/process_executor.py:706: UserWarning: A worker stopped while some jobs were given to the executor. This can be caused by a too short worker timeout or by a memory leak.\n",
      "  \"timeout or by a memory leak.\", UserWarning\n",
      "/anaconda3/envs/Kaggle/lib/python3.6/site-packages/sklearn/externals/joblib/externals/loky/process_executor.py:706: UserWarning: A worker stopped while some jobs were given to the executor. This can be caused by a too short worker timeout or by a memory leak.\n",
      "  \"timeout or by a memory leak.\", UserWarning\n",
      "/anaconda3/envs/Kaggle/lib/python3.6/site-packages/sklearn/externals/joblib/externals/loky/process_executor.py:706: UserWarning: A worker stopped while some jobs were given to the executor. This can be caused by a too short worker timeout or by a memory leak.\n",
      "  \"timeout or by a memory leak.\", UserWarning\n",
      "/anaconda3/envs/Kaggle/lib/python3.6/site-packages/sklearn/externals/joblib/externals/loky/process_executor.py:706: UserWarning: A worker stopped while some jobs were given to the executor. This can be caused by a too short worker timeout or by a memory leak.\n",
      "  \"timeout or by a memory leak.\", UserWarning\n",
      "/anaconda3/envs/Kaggle/lib/python3.6/site-packages/sklearn/externals/joblib/externals/loky/process_executor.py:706: UserWarning: A worker stopped while some jobs were given to the executor. This can be caused by a too short worker timeout or by a memory leak.\n",
      "  \"timeout or by a memory leak.\", UserWarning\n",
      "/anaconda3/envs/Kaggle/lib/python3.6/site-packages/sklearn/externals/joblib/externals/loky/process_executor.py:706: UserWarning: A worker stopped while some jobs were given to the executor. This can be caused by a too short worker timeout or by a memory leak.\n",
      "  \"timeout or by a memory leak.\", UserWarning\n",
      "/anaconda3/envs/Kaggle/lib/python3.6/site-packages/sklearn/model_selection/_search.py:841: DeprecationWarning: The default of the `iid` parameter will change from True to False in version 0.22 and will be removed in 0.24. This will change numeric results when test-set sizes are unequal.\n",
      "  DeprecationWarning)\n"
     ]
    },
    {
     "name": "stdout",
     "output_type": "stream",
     "text": [
      "Results: 556,733,194.26970935 0.05170079\n"
     ]
    }
   ],
   "source": [
    "from sklearn.ensemble import RandomForestRegressor\n",
    "\n",
    "rf_pipe = Pipeline(steps=[('preprocessor', preprocessor), \n",
    "                          ('rf', RandomForestRegressor(random_state=np.random.seed(seed), n_jobs=-1))])\n",
    "\n",
    "rf_param_grid =  {'rf__max_depth' : [2, 3, 4, 5, 6, 7, 8, 9, 20, 25, 30, 35],\n",
    "                   'rf__n_estimators' : [500, 600, 700, 800, 900, 100],\n",
    "                   'rf__max_features': ['sqrt']}\n",
    "\n",
    "rf_grid = GridSearchCV(rf_pipe, param_grid=rf_param_grid, cv=5, scoring='neg_mean_squared_error', n_jobs=-1)\n",
    "\n",
    "rf_grid.fit(house_train_staging.copy(), house_labels)\n",
    "\n",
    "rf_grid_pred = rf_grid.best_estimator_.named_steps['rf'].predict(house_train)\n",
    "\n",
    "rf_rmse = rmsle(house_labels, rf_grid_pred)\n",
    "\n",
    "rf_grid_best = rf_grid.best_estimator_.named_steps['rf']\n",
    "\n",
    "print('Results: {:,.8f} {:.8f}'.format(-rf_grid.best_score_, rf_rmse))"
   ]
  },
  {
   "cell_type": "code",
   "execution_count": 1040,
   "metadata": {},
   "outputs": [
    {
     "name": "stdout",
     "output_type": "stream",
     "text": [
      "Results: 0.887510\n"
     ]
    }
   ],
   "source": [
    "print('Results: {:8f}'.format(rf_grid.best_score_))"
   ]
  },
  {
   "cell_type": "code",
   "execution_count": 27,
   "metadata": {},
   "outputs": [
    {
     "data": {
      "text/plain": [
       "{'rf__max_depth': 30, 'rf__max_features': 'sqrt', 'rf__n_estimators': 600}"
      ]
     },
     "execution_count": 27,
     "metadata": {},
     "output_type": "execute_result"
    }
   ],
   "source": [
    "rf_grid.best_params_"
   ]
  },
  {
   "cell_type": "code",
   "execution_count": 35,
   "metadata": {},
   "outputs": [
    {
     "name": "stderr",
     "output_type": "stream",
     "text": [
      "/anaconda3/envs/Kaggle/lib/python3.6/site-packages/sklearn/model_selection/_search.py:841: DeprecationWarning: The default of the `iid` parameter will change from True to False in version 0.22 and will be removed in 0.24. This will change numeric results when test-set sizes are unequal.\n",
      "  DeprecationWarning)\n"
     ]
    },
    {
     "name": "stdout",
     "output_type": "stream",
     "text": [
      "Results: 490323765.700091 0.034561\n"
     ]
    }
   ],
   "source": [
    "from sklearn.ensemble import GradientBoostingRegressor\n",
    "\n",
    "gbr_pipe = Pipeline(steps=[('preprocessor', preprocessor),\n",
    "                           ('gbr', GradientBoostingRegressor(random_state=np.random.seed(seed)))])\n",
    "\n",
    "gbr_param_grid = {'gbr__max_depth' : [4, 5, 6],\n",
    "                  'gbr__n_estimators' : [300, 350, 400],\n",
    "                  'gbr__learning_rate' : [0.1, 0.2, 0.3],\n",
    "                  'gbr__subsample' : [0.6]}\n",
    "\n",
    "gbr_grid = GridSearchCV(gbr_pipe, param_grid=gbr_param_grid, cv=5, scoring='neg_mean_squared_error', n_jobs=-1)\n",
    "\n",
    "gbr_grid.fit(house_train_staging.copy(), house_labels)\n",
    "\n",
    "gbr_grid_pred = gbr_grid.best_estimator_.named_steps['gbr'].predict(house_train)\n",
    "\n",
    "gbr_rmse = rmsle(house_labels, gbr_grid_pred)\n",
    "\n",
    "gbr_grid_best = gbr_grid.best_estimator_.named_steps['gbr']\n",
    "\n",
    "print('Results: {:8f} {:8f}'.format(-gbr_grid.best_score_, gbr_rmse))"
   ]
  },
  {
   "cell_type": "code",
   "execution_count": 31,
   "metadata": {},
   "outputs": [
    {
     "name": "stdout",
     "output_type": "stream",
     "text": [
      "Results: 491412035.278939\n"
     ]
    }
   ],
   "source": [
    "print('Results: {:8f}'.format(-gbr_grid.best_score_))"
   ]
  },
  {
   "cell_type": "code",
   "execution_count": 36,
   "metadata": {},
   "outputs": [
    {
     "data": {
      "text/plain": [
       "{'gbr__learning_rate': 0.1,\n",
       " 'gbr__max_depth': 4,\n",
       " 'gbr__n_estimators': 300,\n",
       " 'gbr__subsample': 0.6}"
      ]
     },
     "execution_count": 36,
     "metadata": {},
     "output_type": "execute_result"
    }
   ],
   "source": [
    "gbr_grid.best_params_"
   ]
  },
  {
   "cell_type": "code",
   "execution_count": null,
   "metadata": {},
   "outputs": [],
   "source": [
    "encoded_features = OneHotEncoder(handle_unknown='ignore').fit(house_train_staging[selected_categorical_onehot]).get_feature_names()\n",
    "\n",
    "all_features = numeric_features + list(encoded_features)\n",
    "\n",
    "print(len(all_features))"
   ]
  },
  {
   "cell_type": "code",
   "execution_count": null,
   "metadata": {},
   "outputs": [],
   "source": [
    "['OverallCond', 'MasVnrArea','BsmtFinSF2', 'LowQualFinSF',\n",
    " 'BsmtFullBath', 'BsmtHalfBath', 'HalfBath', 'BedroomAbvGr', 'KitchenAbvGr',\n",
    " 'Fireplaces', 'WoodDeckSF', 'OpenPorchSF', '3SsnPorch', 'ScreenPorch', \n",
    " 'PoolArea', 'MiscVal', 'MoSold', 'YrSold', 'ExterQual', 'ExterCond', 'BsmtQual',\n",
    " 'BsmtCond', 'HeatingQC', 'KitchenQual', 'Alley', 'BsmtExposure', 'BsmtFinType1',\n",
    " 'BsmtFinType2', 'Electrical', 'Functional', 'GarageQual', 'GarageCond', 'PavedDrive',\n",
    " 'PoolQC', 'Fence', 'Utilities', 'MSSubClass', 'EnclosedPorch']"
   ]
  },
  {
   "cell_type": "code",
   "execution_count": 682,
   "metadata": {},
   "outputs": [
    {
     "name": "stdout",
     "output_type": "stream",
     "text": [
      "Variable: housesqft_qual_inter Importance: 0.09\n",
      "Variable: total_sqft           Importance: 0.08\n",
      "Variable: OverallQual          Importance: 0.06\n",
      "Variable: liv_area_interaction Importance: 0.06\n",
      "Variable: liv_area_interaction_sqrd Importance: 0.06\n",
      "Variable: Garage_CQ_inter      Importance: 0.04\n",
      "Variable: bsmt_qual_inter      Importance: 0.04\n",
      "Variable: KitchenQual          Importance: 0.03\n",
      "Variable: GrLivArea            Importance: 0.03\n",
      "Variable: ExterQual            Importance: 0.02\n",
      "Variable: BsmtQual             Importance: 0.02\n",
      "Variable: YearBuilt            Importance: 0.02\n",
      "Variable: TotalBsmtSF          Importance: 0.02\n",
      "Variable: 1stFlrSF             Importance: 0.02\n",
      "Variable: GarageCars           Importance: 0.02\n",
      "Variable: YearBuilt_sqrd       Importance: 0.02\n",
      "Variable: YearBuilt_cubed      Importance: 0.02\n",
      "Variable: OverallCond_Qual_inter Importance: 0.02\n",
      "Variable: Garage_sqft_sqrd     Importance: 0.02\n",
      "Variable: BsmtQual_sqrd        Importance: 0.02\n",
      "Variable: BsmtQual_cubed       Importance: 0.02\n",
      "Variable: FireplaceQu          Importance: 0.01\n",
      "Variable: GarageFinish         Importance: 0.01\n",
      "Variable: LotArea              Importance: 0.01\n",
      "Variable: YearRemodAdd         Importance: 0.01\n",
      "Variable: MasVnrArea           Importance: 0.01\n",
      "Variable: BsmtFinSF1           Importance: 0.01\n",
      "Variable: 2ndFlrSF             Importance: 0.01\n",
      "Variable: FullBath             Importance: 0.01\n",
      "Variable: TotRmsAbvGrd         Importance: 0.01\n",
      "Variable: Fireplaces           Importance: 0.01\n",
      "Variable: GarageArea           Importance: 0.01\n",
      "Variable: OpenPorchSF          Importance: 0.01\n",
      "Variable: LotFrontage          Importance: 0.01\n",
      "Variable: yard_size            Importance: 0.01\n",
      "Variable: yard_size_sqrd       Importance: 0.01\n",
      "Variable: yard_size_cubed      Importance: 0.01\n",
      "Variable: Outdoor_lounging     Importance: 0.01\n",
      "Variable: outdoor_inter        Importance: 0.01\n",
      "Variable: Exter_inter          Importance: 0.01\n",
      "Variable: kitchen_inter        Importance: 0.01\n",
      "Variable: fireplace_inter      Importance: 0.01\n",
      "Variable: BsmtExposure         Importance: 0.0\n",
      "Variable: BsmtFinType1         Importance: 0.0\n",
      "Variable: HeatingQC            Importance: 0.0\n",
      "Variable: Electrical           Importance: 0.0\n",
      "Variable: GarageQual           Importance: 0.0\n",
      "Variable: GarageCond           Importance: 0.0\n",
      "Variable: PavedDrive           Importance: 0.0\n",
      "Variable: MSSubClass           Importance: 0.0\n",
      "Variable: BsmtFullBath         Importance: 0.0\n",
      "Variable: HalfBath             Importance: 0.0\n",
      "Variable: WoodDeckSF           Importance: 0.0\n",
      "Variable: KitchenAbvGr_sqrd    Importance: 0.0\n",
      "Variable: BsmtUnfSF_sqrd       Importance: 0.0\n",
      "Variable: BsmtUnfSF_cubed      Importance: 0.0\n",
      "Variable: BsmtFinSF2_sqrd      Importance: 0.0\n",
      "Variable: BsmtFinSF2_cubed     Importance: 0.0\n",
      "Variable: x0_C (all)           Importance: 0.0\n",
      "Variable: x0_FV                Importance: 0.0\n",
      "Variable: x0_RH                Importance: 0.0\n",
      "Variable: x0_RL                Importance: 0.0\n",
      "Variable: x0_RM                Importance: 0.0\n",
      "Variable: x1_Grvl              Importance: 0.0\n",
      "Variable: x1_Pave              Importance: 0.0\n",
      "Variable: x2_IR1               Importance: 0.0\n",
      "Variable: x2_IR2               Importance: 0.0\n",
      "Variable: x2_IR3               Importance: 0.0\n",
      "Variable: x2_Reg               Importance: 0.0\n",
      "Variable: x3_Bnk               Importance: 0.0\n",
      "Variable: x3_HLS               Importance: 0.0\n",
      "Variable: x3_Low               Importance: 0.0\n",
      "Variable: x3_Lvl               Importance: 0.0\n",
      "Variable: x4_Corner            Importance: 0.0\n",
      "Variable: x4_CulDSac           Importance: 0.0\n",
      "Variable: x4_FR2               Importance: 0.0\n",
      "Variable: x4_FR3               Importance: 0.0\n",
      "Variable: x4_Inside            Importance: 0.0\n",
      "Variable: x5_Gtl               Importance: 0.0\n",
      "Variable: x5_Mod               Importance: 0.0\n",
      "Variable: x5_Sev               Importance: 0.0\n",
      "Variable: x6_Blmngtn           Importance: 0.0\n",
      "Variable: x6_Blueste           Importance: 0.0\n",
      "Variable: x6_BrDale            Importance: 0.0\n",
      "Variable: x6_BrkSide           Importance: 0.0\n",
      "Variable: x6_ClearCr           Importance: 0.0\n",
      "Variable: x6_CollgCr           Importance: 0.0\n",
      "Variable: x6_Crawfor           Importance: 0.0\n",
      "Variable: x6_Edwards           Importance: 0.0\n",
      "Variable: x6_Gilbert           Importance: 0.0\n",
      "Variable: x6_IDOTRR            Importance: 0.0\n",
      "Variable: x6_MeadowV           Importance: 0.0\n",
      "Variable: x6_Mitchel           Importance: 0.0\n",
      "Variable: x6_NAmes             Importance: 0.0\n",
      "Variable: x6_NPkVill           Importance: 0.0\n",
      "Variable: x6_NWAmes            Importance: 0.0\n",
      "Variable: x6_NoRidge           Importance: 0.0\n",
      "Variable: x6_NridgHt           Importance: 0.0\n",
      "Variable: x6_OldTown           Importance: 0.0\n",
      "Variable: x6_SWISU             Importance: 0.0\n",
      "Variable: x6_Sawyer            Importance: 0.0\n",
      "Variable: x6_SawyerW           Importance: 0.0\n",
      "Variable: x6_Somerst           Importance: 0.0\n",
      "Variable: x6_StoneBr           Importance: 0.0\n",
      "Variable: x6_Timber            Importance: 0.0\n",
      "Variable: x6_Veenker           Importance: 0.0\n",
      "Variable: x7_Artery            Importance: 0.0\n",
      "Variable: x7_Feedr             Importance: 0.0\n",
      "Variable: x7_Norm              Importance: 0.0\n",
      "Variable: x7_PosA              Importance: 0.0\n",
      "Variable: x7_PosN              Importance: 0.0\n",
      "Variable: x7_RRAe              Importance: 0.0\n",
      "Variable: x7_RRAn              Importance: 0.0\n",
      "Variable: x7_RRNe              Importance: 0.0\n",
      "Variable: x7_RRNn              Importance: 0.0\n",
      "Variable: x8_Artery            Importance: 0.0\n",
      "Variable: x8_Feedr             Importance: 0.0\n",
      "Variable: x8_Norm              Importance: 0.0\n",
      "Variable: x8_PosA              Importance: 0.0\n",
      "Variable: x8_PosN              Importance: 0.0\n",
      "Variable: x8_RRAe              Importance: 0.0\n",
      "Variable: x8_RRAn              Importance: 0.0\n",
      "Variable: x8_RRNn              Importance: 0.0\n",
      "Variable: x9_1Fam              Importance: 0.0\n",
      "Variable: x9_2fmCon            Importance: 0.0\n",
      "Variable: x9_Duplex            Importance: 0.0\n",
      "Variable: x9_Twnhs             Importance: 0.0\n",
      "Variable: x9_TwnhsE            Importance: 0.0\n",
      "Variable: x10_1.5Fin           Importance: 0.0\n",
      "Variable: x10_1.5Unf           Importance: 0.0\n",
      "Variable: x10_1Story           Importance: 0.0\n",
      "Variable: x10_2.5Fin           Importance: 0.0\n",
      "Variable: x10_2.5Unf           Importance: 0.0\n",
      "Variable: x10_2Story           Importance: 0.0\n",
      "Variable: x10_SFoyer           Importance: 0.0\n",
      "Variable: x10_SLvl             Importance: 0.0\n",
      "Variable: x11_Flat             Importance: 0.0\n",
      "Variable: x11_Gable            Importance: 0.0\n",
      "Variable: x11_Gambrel          Importance: 0.0\n",
      "Variable: x11_Hip              Importance: 0.0\n",
      "Variable: x11_Mansard          Importance: 0.0\n",
      "Variable: x11_Shed             Importance: 0.0\n",
      "Variable: x12_ClyTile          Importance: 0.0\n",
      "Variable: x12_CompShg          Importance: 0.0\n",
      "Variable: x12_Membran          Importance: 0.0\n",
      "Variable: x12_Metal            Importance: 0.0\n",
      "Variable: x12_Roll             Importance: 0.0\n",
      "Variable: x12_Tar&Grv          Importance: 0.0\n",
      "Variable: x12_WdShake          Importance: 0.0\n",
      "Variable: x12_WdShngl          Importance: 0.0\n",
      "Variable: x13_AsbShng          Importance: 0.0\n",
      "Variable: x13_AsphShn          Importance: 0.0\n",
      "Variable: x13_BrkComm          Importance: 0.0\n",
      "Variable: x13_BrkFace          Importance: 0.0\n",
      "Variable: x13_CBlock           Importance: 0.0\n",
      "Variable: x13_CemntBd          Importance: 0.0\n",
      "Variable: x13_HdBoard          Importance: 0.0\n",
      "Variable: x13_ImStucc          Importance: 0.0\n",
      "Variable: x13_MetalSd          Importance: 0.0\n",
      "Variable: x13_Plywood          Importance: 0.0\n",
      "Variable: x13_Stone            Importance: 0.0\n",
      "Variable: x13_Stucco           Importance: 0.0\n",
      "Variable: x13_VinylSd          Importance: 0.0\n",
      "Variable: x13_Wd Sdng          Importance: 0.0\n",
      "Variable: x13_WdShing          Importance: 0.0\n",
      "Variable: x14_AsbShng          Importance: 0.0\n",
      "Variable: x14_AsphShn          Importance: 0.0\n",
      "Variable: x14_Brk Cmn          Importance: 0.0\n",
      "Variable: x14_BrkFace          Importance: 0.0\n",
      "Variable: x14_CBlock           Importance: 0.0\n",
      "Variable: x14_CmentBd          Importance: 0.0\n",
      "Variable: x14_HdBoard          Importance: 0.0\n",
      "Variable: x14_ImStucc          Importance: 0.0\n",
      "Variable: x14_MetalSd          Importance: 0.0\n",
      "Variable: x14_Other            Importance: 0.0\n",
      "Variable: x14_Plywood          Importance: 0.0\n",
      "Variable: x14_Stone            Importance: 0.0\n",
      "Variable: x14_Stucco           Importance: 0.0\n",
      "Variable: x14_VinylSd          Importance: 0.0\n",
      "Variable: x14_Wd Sdng          Importance: 0.0\n",
      "Variable: x14_Wd Shng          Importance: 0.0\n",
      "Variable: x15_BrkCmn           Importance: 0.0\n",
      "Variable: x15_BrkFace          Importance: 0.0\n",
      "Variable: x15_None             Importance: 0.0\n",
      "Variable: x15_Stone            Importance: 0.0\n",
      "Variable: x16_Floor            Importance: 0.0\n",
      "Variable: x16_GasA             Importance: 0.0\n",
      "Variable: x16_GasW             Importance: 0.0\n",
      "Variable: x16_Grav             Importance: 0.0\n",
      "Variable: x16_OthW             Importance: 0.0\n",
      "Variable: x16_Wall             Importance: 0.0\n",
      "Variable: x17_N                Importance: 0.0\n",
      "Variable: x17_Y                Importance: 0.0\n",
      "Variable: x18_2Types           Importance: 0.0\n",
      "Variable: x18_Attchd           Importance: 0.0\n",
      "Variable: x18_Basment          Importance: 0.0\n",
      "Variable: x18_BuiltIn          Importance: 0.0\n",
      "Variable: x18_CarPort          Importance: 0.0\n",
      "Variable: x18_Detchd           Importance: 0.0\n",
      "Variable: x18_None             Importance: 0.0\n",
      "Variable: x19_COD              Importance: 0.0\n",
      "Variable: x19_CWD              Importance: 0.0\n",
      "Variable: x19_Con              Importance: 0.0\n",
      "Variable: x19_ConLD            Importance: 0.0\n",
      "Variable: x19_ConLI            Importance: 0.0\n",
      "Variable: x19_ConLw            Importance: 0.0\n",
      "Variable: x19_New              Importance: 0.0\n",
      "Variable: x19_Oth              Importance: 0.0\n",
      "Variable: x19_WD               Importance: 0.0\n",
      "Variable: x20_Abnorml          Importance: 0.0\n",
      "Variable: x20_AdjLand          Importance: 0.0\n",
      "Variable: x20_Alloca           Importance: 0.0\n",
      "Variable: x20_Family           Importance: 0.0\n",
      "Variable: x20_Normal           Importance: 0.0\n",
      "Variable: x20_Partial          Importance: 0.0\n"
     ]
    },
    {
     "data": {
      "text/plain": [
       "[None,\n",
       " None,\n",
       " None,\n",
       " None,\n",
       " None,\n",
       " None,\n",
       " None,\n",
       " None,\n",
       " None,\n",
       " None,\n",
       " None,\n",
       " None,\n",
       " None,\n",
       " None,\n",
       " None,\n",
       " None,\n",
       " None,\n",
       " None,\n",
       " None,\n",
       " None,\n",
       " None,\n",
       " None,\n",
       " None,\n",
       " None,\n",
       " None,\n",
       " None,\n",
       " None,\n",
       " None,\n",
       " None,\n",
       " None,\n",
       " None,\n",
       " None,\n",
       " None,\n",
       " None,\n",
       " None,\n",
       " None,\n",
       " None,\n",
       " None,\n",
       " None,\n",
       " None,\n",
       " None,\n",
       " None,\n",
       " None,\n",
       " None,\n",
       " None,\n",
       " None,\n",
       " None,\n",
       " None,\n",
       " None,\n",
       " None,\n",
       " None,\n",
       " None,\n",
       " None,\n",
       " None,\n",
       " None,\n",
       " None,\n",
       " None,\n",
       " None,\n",
       " None,\n",
       " None,\n",
       " None,\n",
       " None,\n",
       " None,\n",
       " None,\n",
       " None,\n",
       " None,\n",
       " None,\n",
       " None,\n",
       " None,\n",
       " None,\n",
       " None,\n",
       " None,\n",
       " None,\n",
       " None,\n",
       " None,\n",
       " None,\n",
       " None,\n",
       " None,\n",
       " None,\n",
       " None,\n",
       " None,\n",
       " None,\n",
       " None,\n",
       " None,\n",
       " None,\n",
       " None,\n",
       " None,\n",
       " None,\n",
       " None,\n",
       " None,\n",
       " None,\n",
       " None,\n",
       " None,\n",
       " None,\n",
       " None,\n",
       " None,\n",
       " None,\n",
       " None,\n",
       " None,\n",
       " None,\n",
       " None,\n",
       " None,\n",
       " None,\n",
       " None,\n",
       " None,\n",
       " None,\n",
       " None,\n",
       " None,\n",
       " None,\n",
       " None,\n",
       " None,\n",
       " None,\n",
       " None,\n",
       " None,\n",
       " None,\n",
       " None,\n",
       " None,\n",
       " None,\n",
       " None,\n",
       " None,\n",
       " None,\n",
       " None,\n",
       " None,\n",
       " None,\n",
       " None,\n",
       " None,\n",
       " None,\n",
       " None,\n",
       " None,\n",
       " None,\n",
       " None,\n",
       " None,\n",
       " None,\n",
       " None,\n",
       " None,\n",
       " None,\n",
       " None,\n",
       " None,\n",
       " None,\n",
       " None,\n",
       " None,\n",
       " None,\n",
       " None,\n",
       " None,\n",
       " None,\n",
       " None,\n",
       " None,\n",
       " None,\n",
       " None,\n",
       " None,\n",
       " None,\n",
       " None,\n",
       " None,\n",
       " None,\n",
       " None,\n",
       " None,\n",
       " None,\n",
       " None,\n",
       " None,\n",
       " None,\n",
       " None,\n",
       " None,\n",
       " None,\n",
       " None,\n",
       " None,\n",
       " None,\n",
       " None,\n",
       " None,\n",
       " None,\n",
       " None,\n",
       " None,\n",
       " None,\n",
       " None,\n",
       " None,\n",
       " None,\n",
       " None,\n",
       " None,\n",
       " None,\n",
       " None,\n",
       " None,\n",
       " None,\n",
       " None,\n",
       " None,\n",
       " None,\n",
       " None,\n",
       " None,\n",
       " None,\n",
       " None,\n",
       " None,\n",
       " None,\n",
       " None,\n",
       " None,\n",
       " None,\n",
       " None,\n",
       " None,\n",
       " None,\n",
       " None,\n",
       " None,\n",
       " None,\n",
       " None,\n",
       " None,\n",
       " None,\n",
       " None,\n",
       " None,\n",
       " None,\n",
       " None,\n",
       " None,\n",
       " None,\n",
       " None,\n",
       " None,\n",
       " None,\n",
       " None,\n",
       " None,\n",
       " None,\n",
       " None]"
      ]
     },
     "execution_count": 682,
     "metadata": {},
     "output_type": "execute_result"
    }
   ],
   "source": [
    "# Get all the feature importances\n",
    "importances = list(rf_grid_best.feature_importances_)\n",
    "encoded_features = OneHotEncoder(handle_unknown='ignore').fit(house_train_staging[selected_categorical_onehot]).get_feature_names()\n",
    "\n",
    "all_features = numeric_features + list(encoded_features)\n",
    "\n",
    "# List of tuples with variable and importance\n",
    "feature_importances = [(feature, round(importance, 2)) for feature, importance in zip(all_features, importances)]\n",
    "\n",
    "# Sort the feature importances by most important first\n",
    "feature_importances = sorted(feature_importances, key = lambda x: x[1], reverse = True)\n",
    "\n",
    "# Print out the feature and importances \n",
    "[print('Variable: {:20} Importance: {}'.format(*pair)) for pair in feature_importances]"
   ]
  },
  {
   "cell_type": "code",
   "execution_count": null,
   "metadata": {},
   "outputs": [],
   "source": [
    "from keras.models import Sequential\n",
    "from keras.layers import Dense, Dropout\n",
    "from keras.wrappers.scikit_learn import KerasRegressor\n",
    "from keras.losses import mean_squared_logarithmic_error\n",
    "\n",
    "# define base model\n",
    "def baseline_model():\n",
    "    # create model\n",
    "    model = Sequential()\n",
    "    model.add(Dense(100, input_dim=np.shape(house_train)[1], kernel_initializer='normal',\n",
    "                    activation='relu'))\n",
    "    model.add(Dropout(0.2))\n",
    "    model.add(Dense(1, kernel_initializer='normal'))\n",
    "    # Compile model\n",
    "    model.compile(loss='mean_squared_error', optimizer='adam')\n",
    "    return model"
   ]
  },
  {
   "cell_type": "code",
   "execution_count": null,
   "metadata": {},
   "outputs": [],
   "source": [
    "import tensorflow as tf\n",
    "\n",
    "config = tf.ConfigProto()\n",
    "config.gpu_options.allow_growth = True\n",
    "session = tf.Session(config=config)"
   ]
  },
  {
   "cell_type": "code",
   "execution_count": null,
   "metadata": {},
   "outputs": [],
   "source": [
    "# fix random seed for reproducibility\n",
    "seed = 7\n",
    "np.random.seed(seed)\n",
    "# evaluate model with standardized dataset\n",
    "\n",
    "nn_estimator = KerasRegressor(build_fn=baseline_model, epochs=1000, batch_size=128, verbose=1)\n",
    "\n",
    "nn_estimator.fit(house_train, house_labels)\n",
    "\n",
    "results = cross_val_score(nn_estimator, house_train, house_labels, cv=5, n_jobs =1)\n",
    "score = nn_estimator.score(house_train, house_labels)\n",
    "rmse = rmsle(house_labels, nn_estimator.predict(house_train))\n",
    "\n",
    "print(\"Results: {:.2f}% ({:.2f}%) {:.5f} {:.5f}\".format(results.mean()*100, results.std()*100, score, rmse))"
   ]
  },
  {
   "cell_type": "code",
   "execution_count": 40,
   "metadata": {},
   "outputs": [
    {
     "name": "stdout",
     "output_type": "stream",
     "text": [
      "<class 'pandas.core.frame.DataFrame'>\n",
      "RangeIndex: 1459 entries, 0 to 1458\n",
      "Data columns (total 2 columns):\n",
      "Id           1459 non-null int64\n",
      "SalePrice    1459 non-null float64\n",
      "dtypes: float64(1), int64(1)\n",
      "memory usage: 22.9 KB\n"
     ]
    }
   ],
   "source": [
    "def kaggle_submission(estimator, test_set, test_source, label, kaggle_id):\n",
    "    \"\"\"\n",
    "    Create a csv to submit predictions to Kaggle.\n",
    "    \n",
    "    estimator: Sci-kit estimator used on training set.\n",
    "    test_set: The test set.\n",
    "    label: The name of the label; must be a string.\n",
    "    test_source: The original training set, which contains the Id column.\n",
    "    kaggle_id: The id column from the test set. \n",
    "    \"\"\"\n",
    "    predictions = estimator.predict(test_set)\n",
    "    predictions = pd.DataFrame(predictions, columns=[label])\n",
    "    submission = pd.DataFrame(test_source[kaggle_id])\n",
    "    submission[label] = predictions[label]\n",
    "    return submission\n",
    "\n",
    "predictions = kaggle_submission(gbr_grid_best, house_test_data, \n",
    "                                house_test, 'SalePrice', 'Id')\n",
    "\n",
    "predictions.info()"
   ]
  },
  {
   "cell_type": "code",
   "execution_count": null,
   "metadata": {},
   "outputs": [],
   "source": [
    "predictions.to_csv('gbr_reduced_with_featuring_submission.csv', index=False)"
   ]
  }
 ],
 "metadata": {
  "kernelspec": {
   "display_name": "Python 3",
   "language": "python",
   "name": "python3"
  },
  "language_info": {
   "codemirror_mode": {
    "name": "ipython",
    "version": 3
   },
   "file_extension": ".py",
   "mimetype": "text/x-python",
   "name": "python",
   "nbconvert_exporter": "python",
   "pygments_lexer": "ipython3",
   "version": "3.6.8"
  }
 },
 "nbformat": 4,
 "nbformat_minor": 2
}
