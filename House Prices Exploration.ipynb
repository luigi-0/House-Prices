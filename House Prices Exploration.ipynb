{
 "cells": [
  {
   "cell_type": "code",
   "execution_count": 2,
   "metadata": {},
   "outputs": [],
   "source": [
    "\"\"\"\n",
    "Created on Mon Mar 25 18:00:45 2019\n",
    "\n",
    "@author: luisgranados\n",
    "\"\"\"\n",
    "import pandas as pd\n",
    "import numpy as np\n",
    "from sklearn.preprocessing import OneHotEncoder\n",
    "import category_encoders as ce\n",
    "from sklearn.preprocessing import StandardScaler\n",
    "from sklearn.impute import SimpleImputer\n",
    "from sklearn.base import BaseEstimator, TransformerMixin\n",
    "from sklearn.pipeline import Pipeline\n",
    "import matplotlib.pyplot as plt\n",
    "import seaborn as sns\n",
    "%matplotlib inline\n",
    "\n",
    "house_source_data = pd.read_csv(\"train.csv\")\n",
    "house_test = pd.read_csv(\"test.csv\")\n",
    "\n",
    "# A function to calculate Root Mean Squared Logarithmic Error (RMSLE).\n",
    "from sklearn.metrics import mean_squared_log_error\n",
    "\n",
    "def rmsle(y, y_pred):\n",
    "    return np.sqrt(mean_squared_log_error(y, y_pred))\n",
    "\n",
    "# Stage the ratings for the mapper function.\n",
    "# Remember, these are ordinal features.\n",
    "qual_rating_features = ['ExterQual', 'ExterCond', 'BsmtQual', 'BsmtCond',\n",
    "                'HeatingQC', 'KitchenQual', 'FireplaceQu', 'GarageQual',\n",
    "                'GarageCond', 'PoolQC']\n",
    "\n",
    "qual_ordinal_ratings = [\n",
    "        ('Ex',5), \n",
    "        ('Gd',4), \n",
    "        ('TA',3), \n",
    "        ('Fa',2), \n",
    "        ('Po',1), \n",
    "        ('NA',0)\n",
    "    ]\n",
    "\n",
    "# Exposure features need own mapping.\n",
    "exposure_rating_feature = ['BsmtExposure']\n",
    "exposure_ordinal_ratings = [\n",
    "        ('Gd',4), \n",
    "        ('Av',3), \n",
    "        ('Mn',2), \n",
    "        ('No',1), \n",
    "        ('NA',0)\n",
    "    ]\n",
    "\n",
    "electrical_rating_feature = ['Electrical']\n",
    "electrical_ordinal_ratings = [\n",
    "        ('SBrkr',5),\n",
    "        ('FuseA',4),\n",
    "        ('FuseF',3),\n",
    "        ('FuseP',2),\n",
    "        ('Mix',1)\n",
    "    ]\n",
    "\n",
    "functional_rating_feature = ['Functional']\n",
    "functional_ordinal_ratings = [\n",
    "        ('Typ',7), \n",
    "        ('Min1',6), \n",
    "        ('Min2',5), \n",
    "        ('Mod',4), \n",
    "        ('Maj1',3),\n",
    "        ('Maj2',2),\n",
    "        ('Sev',1),\n",
    "        ('Sal',0)\n",
    "    ]\n",
    "\n",
    "# Finish ratings\n",
    "bsmt_finish_rating_features = ['BsmtFinType1', 'BsmtFinType2']\n",
    "bsmtfin_ordinal_ratings = [\n",
    "        ('GLQ',6), \n",
    "        ('ALQ',5), \n",
    "        ('BLQ',4), \n",
    "        ('Rec',3), \n",
    "        ('LwQ',2),\n",
    "        ('Unf',1),\n",
    "        ('NA',0)\n",
    "    ]\n",
    "\n",
    "grg_finish_rating_feature = ['GarageFinish']\n",
    "grgfin_ordinal_ratings = [\n",
    "        ('Fin',3), \n",
    "        ('RFn',2), \n",
    "        ('Unf',1), \n",
    "        ('NA',0)\n",
    "    ]\n",
    "\n",
    "paved_rating_feature = ['PavedDrive']\n",
    "paved_ordinal_ratings = [\n",
    "        ('Y',2), \n",
    "        ('P',1), \n",
    "        ('N',0)\n",
    "    ]\n",
    "\n",
    "fence_rating_feature = ['Fence']\n",
    "fence_ordinal_ratings = [\n",
    "        ('GdPrv',4),\n",
    "        ('MnPrv',3),\n",
    "        ('GdWo',2), \n",
    "        ('MnWw',1),\n",
    "        ('NA',0)\n",
    "    ]\n",
    "\n",
    "alley_rating_feature = ['Alley']\n",
    "alley_ordinal_ratings = [\n",
    "        ('Pave',2),\n",
    "        ('Grvl',1),\n",
    "        ('NA',0)\n",
    "    ]\n",
    "\n",
    "utilities_rating_feature = ['Utilities']\n",
    "utilities_ordinal_ratings = [\n",
    "        ('AllPub',3),\n",
    "        ('NoSewr',2),\n",
    "        ('NoSeWa',1),\n",
    "        ('ELO', 0)\n",
    "    ]\n",
    "\n",
    "# Select categorical features to one-hot-encode.\n",
    "categorial_onehot_features = ['MSZoning',\n",
    "    'Street',\n",
    "    'LotShape',\n",
    "    'LandContour',\n",
    "    'LotConfig',\n",
    "    'LandSlope',\n",
    "    'Neighborhood',\n",
    "    'Condition1',\n",
    "    'Condition2',\n",
    "    'BldgType',\n",
    "    'HouseStyle',\n",
    "    'RoofStyle',\n",
    "    'RoofMatl',\n",
    "    'Exterior1st',\n",
    "    'Exterior2nd',\n",
    "    'MasVnrType',\n",
    "    'Foundation',\n",
    "    'Heating',\n",
    "    'CentralAir',\n",
    "    'GarageType',\n",
    "    'SaleType',\n",
    "    'SaleCondition'\n",
    "    ]\n",
    "\n",
    "selected_categorical_onehot = [\n",
    "    'YrSold',\n",
    "    'MoSold',\n",
    "    'MSZoning',\n",
    "    'Street',\n",
    "    #'LandContour',\n",
    "    #'LotConfig',\n",
    "    #'LandSlope',\n",
    "    'Neighborhood',\n",
    "    'Condition1',\n",
    "    'Condition2',\n",
    "    #'BldgType', # might still keep this one\n",
    "    'HouseStyle',\n",
    "    'RoofStyle',\n",
    "    #'RoofMatl',\n",
    "    'Exterior1st',\n",
    "    #'Exterior2nd', #might keep this\n",
    "    #'MasVnrType',\n",
    "    #'Heating',\n",
    "    'CentralAir',\n",
    "    'GarageType',\n",
    "    'SaleType',\n",
    "    'SaleCondition'      \n",
    "]\n",
    "\n",
    "# Use this function for generating new ones. I can't generalize this part \n",
    "# because of all the potentially different ways to create each feature.\n",
    "# but this will allow me to do the same generation for the test set.\n",
    "def generator(dataframe):\n",
    "    \"\"\"Generate new features.\"\"\"\n",
    "    new_dataframe = dataframe.copy()\n",
    "    \n",
    "    new_dataframe['yard_size'] = new_dataframe['LotArea'] - (new_dataframe['1stFlrSF'] + new_dataframe['GarageArea'])\n",
    "    \n",
    "    new_dataframe['yard_size_sqrd'] = new_dataframe['yard_size']**2\n",
    "    \n",
    "    new_dataframe['yard_size_cubed'] = new_dataframe['yard_size']**3\n",
    "    \n",
    "    new_dataframe['YearBuilt_sqrd'] = new_dataframe['YearBuilt']**2\n",
    "    \n",
    "    new_dataframe['YearBuilt_cubed'] = new_dataframe['YearBuilt']**3\n",
    "    \n",
    "    new_dataframe['total_sqft'] = (new_dataframe['2ndFlrSF'] + new_dataframe['TotalBsmtSF'] + \n",
    "                                   new_dataframe['1stFlrSF'] + new_dataframe['GarageArea'])\n",
    "    \n",
    "    new_dataframe['total_house_sqft'] = (new_dataframe['2ndFlrSF'] + new_dataframe['TotalBsmtSF'] + \n",
    "                                   new_dataframe['1stFlrSF'])\n",
    "    \n",
    "    new_dataframe['total_bathrooms'] = (new_dataframe['FullBath'] + (0.5 * new_dataframe['HalfBath']) +\n",
    "                               new_dataframe['BsmtFullBath'] + (0.5 * new_dataframe['BsmtHalfBath']))\n",
    "    \n",
    "    new_dataframe['liv_area_interaction'] = new_dataframe['GrLivArea'] * new_dataframe['total_sqft']\n",
    "    \n",
    "    new_dataframe['housesqft_qual_inter'] = new_dataframe['total_sqft'] * new_dataframe['OverallQual']\n",
    "    \n",
    "    new_dataframe['OverallCond_Qual_inter'] = new_dataframe['OverallCond'] * new_dataframe['OverallQual']\n",
    "    \n",
    "    new_dataframe['Garage_sqft_sqrd'] = new_dataframe['GarageArea']**2\n",
    "    \n",
    "    new_dataframe['Garage_CQ_inter'] = (new_dataframe['GarageQual'] * new_dataframe['GarageCond'] *\n",
    "                                       new_dataframe['GarageCars'] * new_dataframe['GarageArea'])\n",
    "    \n",
    "    new_dataframe['Outdoor_lounging'] = (new_dataframe['EnclosedPorch'] + new_dataframe['OpenPorchSF'] * \n",
    "                                         new_dataframe['WoodDeckSF'] + new_dataframe['3SsnPorch'] +\n",
    "                                         new_dataframe['ScreenPorch'])\n",
    "    \n",
    "    new_dataframe['outdoor_inter'] = new_dataframe['Outdoor_lounging'] * new_dataframe['yard_size']\n",
    "    \n",
    "    new_dataframe['Exter_inter'] = new_dataframe['ExterCond'] * new_dataframe['ExterQual'] * new_dataframe['MasVnrArea']\n",
    "    \n",
    "    new_dataframe['kitchen_inter'] = new_dataframe['KitchenAbvGr'] * new_dataframe['KitchenQual']\n",
    "    \n",
    "    new_dataframe['bsmt_qual_inter'] = (new_dataframe['BsmtQual'] * new_dataframe['BsmtCond'] * \n",
    "                                        new_dataframe['TotalBsmtSF'])\n",
    "\n",
    "    new_dataframe['BsmtQual_sqrd'] = new_dataframe['BsmtQual']**2\n",
    "    \n",
    "    new_dataframe['BsmtQual_cubed'] = new_dataframe['BsmtQual']**3\n",
    "    \n",
    "    new_dataframe['BsmtUnfSF_sqrd'] = new_dataframe['BsmtUnfSF']**2\n",
    "    \n",
    "    new_dataframe['BsmtUnfSF_cubed'] = new_dataframe['BsmtUnfSF']**3\n",
    "    \n",
    "    new_dataframe['BsmtFinSF2_sqrd'] = new_dataframe['BsmtFinSF2']**2\n",
    "    \n",
    "    new_dataframe['BsmtFinSF2_cubed'] = new_dataframe['BsmtFinSF2']**3\n",
    "    \n",
    "    new_dataframe['fireplace_inter'] = new_dataframe['Fireplaces'] * new_dataframe['FireplaceQu']\n",
    "    \n",
    "    return new_dataframe\n",
    "\n",
    "def mapper(data_in, features, ratings):\n",
    "    \"\"\"Map ordinal ratings to numeric ranking.\"\"\"\n",
    "    counter = 0\n",
    "    for feature in features:\n",
    "        ordinal_mapping = [{\n",
    "            \"col\":feature,    \n",
    "            \"mapping\": ratings},\n",
    "        ]\n",
    "\n",
    "        encoder = ce.OrdinalEncoder(mapping = ordinal_mapping, \n",
    "                                    return_df = True, cols = feature)\n",
    "        if counter == 0:\n",
    "            df_train = encoder.fit_transform(data_in.copy())\n",
    "        else:\n",
    "            df_train = encoder.fit_transform(df_train)\n",
    "        counter += 1\n",
    "    return df_train\n",
    "\n",
    "def data_staging(data_in):\n",
    "    \"\"\"Create preliminary training set.\"\"\"\n",
    "    data_frame = data_in.copy()\n",
    "    \n",
    "    # Fill in the null values with None.\n",
    "    category_data = data_frame.copy().select_dtypes(exclude='number').fillna(value='None')\n",
    "\n",
    "    # Fill in null values with 0.\n",
    "    numeric_data = (data_frame\n",
    "             .loc[:, data_frame.copy().columns != 'LotFrontage']\n",
    "             .select_dtypes(include='number')\n",
    "             .fillna(value=0)\n",
    "            )\n",
    "\n",
    "    # Re-merge the two datasets. Drop label and unneeded features.\n",
    "    data_in_cleaned = (category_data\n",
    "                         .merge(numeric_data, how='outer',\n",
    "                                left_index=True, right_index=True)\n",
    "                         .drop(columns=['SalePrice', 'MiscFeature', 'Id'], errors='ignore')\n",
    "                        )\n",
    "    data_in_cleaned = pd.concat([data_in_cleaned, data_in['LotFrontage']], axis=1)\n",
    "    \n",
    "    data_in_cleaned = mapper(data_in_cleaned, qual_rating_features, qual_ordinal_ratings)\n",
    "    data_in_cleaned = mapper(data_in_cleaned, bsmt_finish_rating_features, bsmtfin_ordinal_ratings)\n",
    "    data_in_cleaned = mapper(data_in_cleaned, exposure_rating_feature, exposure_ordinal_ratings)\n",
    "    data_in_cleaned = mapper(data_in_cleaned, electrical_rating_feature, electrical_ordinal_ratings)\n",
    "    data_in_cleaned = mapper(data_in_cleaned, functional_rating_feature, functional_ordinal_ratings)\n",
    "    data_in_cleaned = mapper(data_in_cleaned, grg_finish_rating_feature, grgfin_ordinal_ratings)\n",
    "    data_in_cleaned = mapper(data_in_cleaned, paved_rating_feature, paved_ordinal_ratings)\n",
    "    data_in_cleaned = mapper(data_in_cleaned, fence_rating_feature, fence_ordinal_ratings)\n",
    "    data_in_cleaned = mapper(data_in_cleaned, alley_rating_feature, alley_ordinal_ratings)\n",
    "    data_in_cleaned = mapper(data_in_cleaned, utilities_rating_feature, utilities_ordinal_ratings)\n",
    "    \n",
    "    # Generate new features.\n",
    "    data_in_cleaned = generator(data_in_cleaned)\n",
    "    \n",
    "    return data_in_cleaned\n",
    "\n",
    "# Create the preliminary training set. This is for analysis.\n",
    "# numeric attributes get pulled from here.\n",
    "\n",
    "features_to_drop = ['FullBath', 'HalfBath', 'BsmtFinType2', '3SsnPorch', 'BsmtFinSF2',\n",
    "                   'BsmtFullBath', 'BsmtHalfBath', 'PoolArea', 'ExterCond', 'MiscVal',\n",
    "                   'LowQualFinSF', 'OverallCond', 'Alley', 'EnclosedPorch',\n",
    "                   'KitchenAbvGr', 'Fence', 'Functional', 'ScreenPorch', 'PoolQC',\n",
    "                   'BedroomAbvGr', 'BsmtCond', 'BsmtUnfSF', 'Utilities',\n",
    "                   'GarageYrBlt']\n",
    "\n",
    "# Take the natural log of the dependent variable.\n",
    "house_source_data[\"SalePrice\"] = np.log1p(house_source_data[\"SalePrice\"])\n",
    "\n",
    "# Observations with outliers to drop\n",
    "outliers_to_drop = [691, 1182, 1169, 803, 897, 898, 185, 495, 968,\n",
    "            705, 642, 769, 798, 1046, 440, 190, 608, 1268,\n",
    "            1353, 426, 1423]\n",
    "\n",
    "# Store the label for the training set. \n",
    "house_labels = house_source_data['SalePrice'].copy().drop(outliers_to_drop)\n",
    "\n",
    "house_train_staging = data_staging(house_source_data.copy()).drop(columns=features_to_drop).drop(outliers_to_drop)\n",
    "\n",
    "house_test_staging = data_staging(house_test.copy()).drop(columns=features_to_drop)\n",
    "\n",
    "# Store all the numeric type column names for DataFrameSelector(). \n",
    "# MSSubClass gets encoded, so it gets droped from the numeric list of features to process.\n",
    "numeric_features = list(house_train_staging.select_dtypes(include='number').drop(columns=['MoSold', 'YrSold']).columns)\n",
    "\n",
    "from sklearn.compose import ColumnTransformer\n",
    "\n",
    "numeric_transformer = Pipeline(steps=[\n",
    "    ('imputer', SimpleImputer(strategy='median')),\n",
    "    ('scaler', StandardScaler())])\n",
    "\n",
    "categorical_transformer = Pipeline(steps=[\n",
    "    ('onehot', OneHotEncoder(handle_unknown='ignore', sparse=False))])\n",
    "\n",
    "preprocessor = ColumnTransformer(\n",
    "    transformers=[\n",
    "        ('num', numeric_transformer, numeric_features),\n",
    "        ('onehot', OneHotEncoder(handle_unknown='ignore', sparse=False), selected_categorical_onehot)\n",
    "    ])\n",
    "\n",
    "house_train = preprocessor.fit_transform(house_train_staging.copy())\n",
    "house_test_data = preprocessor.transform(house_test_staging.copy())\n",
    "\n",
    "from sklearn.linear_model import Ridge\n",
    "from sklearn.linear_model import Lasso\n",
    "from sklearn.linear_model import ElasticNet\n",
    "from sklearn.model_selection import cross_val_score\n",
    "from sklearn.model_selection import GridSearchCV\n",
    "\n",
    "seed = 42\n",
    "np.random.seed(seed)"
   ]
  },
  {
   "cell_type": "code",
   "execution_count": 3,
   "metadata": {},
   "outputs": [
    {
     "data": {
      "text/plain": [
       "<matplotlib.axes._subplots.AxesSubplot at 0x10d4aa8d0>"
      ]
     },
     "execution_count": 3,
     "metadata": {},
     "output_type": "execute_result"
    },
    {
     "data": {
      "image/png": "[encoded data removed]",
      "text/plain": [
       "<Figure size 432x288 with 1 Axes>"
      ]
     },
     "metadata": {
      "needs_background": "light"
     },
     "output_type": "display_data"
    }
   ],
   "source": [
    "sns.scatterplot(house_source_data['BsmtUnfSF'], house_source_data['SalePrice'])"
   ]
  },
  {
   "cell_type": "code",
   "execution_count": 4,
   "metadata": {
    "scrolled": true
   },
   "outputs": [
    {
     "data": {
      "text/plain": [
       "<matplotlib.axes._subplots.AxesSubplot at 0x1a20d3a5c0>"
      ]
     },
     "execution_count": 4,
     "metadata": {},
     "output_type": "execute_result"
    },
    {
     "data": {
      "image/png": "[encoded data removed]",
      "text/plain": [
       "<Figure size 432x288 with 1 Axes>"
      ]
     },
     "metadata": {
      "needs_background": "light"
     },
     "output_type": "display_data"
    }
   ],
   "source": [
    "sns.boxplot(house_train_staging['MSSubClass'], house_source_data['SalePrice'])"
   ]
  },
  {
   "cell_type": "code",
   "execution_count": 5,
   "metadata": {
    "scrolled": true
   },
   "outputs": [
    {
     "name": "stdout",
     "output_type": "stream",
     "text": [
      "Results: 0.01298672 0.00758181\n"
     ]
    },
    {
     "name": "stderr",
     "output_type": "stream",
     "text": [
      "/anaconda3/envs/Kaggle/lib/python3.6/site-packages/sklearn/linear_model/coordinate_descent.py:492: ConvergenceWarning: Objective did not converge. You might want to increase the number of iterations. Fitting data with very small alpha may cause precision problems.\n",
      "  ConvergenceWarning)\n"
     ]
    }
   ],
   "source": [
    "lasso_pipe = Pipeline(steps=[('preprocessor', preprocessor), \n",
    "                             ('lasso', Lasso(selection='random', random_state=np.random.seed(seed)))])\n",
    "\n",
    "lasso_param_grid = {'lasso__alpha' : [1e-10, 1e-09, 1e-08, 1e-07, 1e-06, 1e-05, 1e-04, 1e-03]}\n",
    "\n",
    "lasso_grid = GridSearchCV(lasso_pipe, param_grid=lasso_param_grid, cv=5, scoring='neg_mean_squared_error', n_jobs=-1)\n",
    "\n",
    "lasso_grid.fit(house_train_staging.copy(), house_labels)\n",
    "\n",
    "lasso_grid_pred = lasso_grid.best_estimator_.named_steps['lasso'].predict(house_train)\n",
    "\n",
    "lasso_rmse = rmsle(house_labels, lasso_grid_pred)\n",
    "\n",
    "lasso_grid_best = lasso_grid.best_estimator_.named_steps['lasso']\n",
    "\n",
    "print('Results: {:,.8f} {:,.8f}'.format(-lasso_grid.best_score_, lasso_rmse))"
   ]
  },
  {
   "cell_type": "code",
   "execution_count": 6,
   "metadata": {},
   "outputs": [
    {
     "name": "stdout",
     "output_type": "stream",
     "text": [
      "Results: 0.01298672 0.00758181\n"
     ]
    }
   ],
   "source": [
    "print('Results: {:,.8f} {:,.8f}'.format(-lasso_grid.best_score_, lasso_rmse))"
   ]
  },
  {
   "cell_type": "code",
   "execution_count": 7,
   "metadata": {},
   "outputs": [
    {
     "data": {
      "text/plain": [
       "{'lasso__alpha': 0.0001}"
      ]
     },
     "execution_count": 7,
     "metadata": {},
     "output_type": "execute_result"
    }
   ],
   "source": [
    "lasso_grid.best_params_"
   ]
  },
  {
   "cell_type": "code",
   "execution_count": 8,
   "metadata": {},
   "outputs": [
    {
     "name": "stdout",
     "output_type": "stream",
     "text": [
      "Results: 0.01290531 0.00765669\n"
     ]
    }
   ],
   "source": [
    "ridge_pipe = Pipeline(steps=[('preprocessor', preprocessor), \n",
    "                             ('rig', Ridge(random_state=np.random.seed(seed)))])\n",
    "\n",
    "ridge_param_grid = {'rig__alpha' : [1e-4, 1e-3, 1e-2, 1e-1, 0.1, 1, 2, 3, 4, 5]}\n",
    "\n",
    "ridge_grid = GridSearchCV(ridge_pipe, param_grid=ridge_param_grid, cv=5, scoring='neg_mean_squared_error', n_jobs=-1)\n",
    "\n",
    "ridge_grid.fit(house_train_staging.copy(), house_labels)\n",
    "\n",
    "ridge_grid_pred = ridge_grid.best_estimator_.named_steps['rig'].predict(house_train)\n",
    "\n",
    "ridge_rmse = rmsle(house_labels, ridge_grid_pred)\n",
    "\n",
    "ridge_grid_best = ridge_grid.best_estimator_.named_steps['rig']\n",
    "\n",
    "print('Results: {:,.8f} {:,.8f}'.format(-ridge_grid.best_score_, ridge_rmse))"
   ]
  },
  {
   "cell_type": "code",
   "execution_count": 9,
   "metadata": {},
   "outputs": [
    {
     "name": "stdout",
     "output_type": "stream",
     "text": [
      "Results: 0.01290531 0.00765669\n"
     ]
    }
   ],
   "source": [
    "print('Results: {:,.8f} {:,.8f}'.format(-ridge_grid.best_score_, ridge_rmse))"
   ]
  },
  {
   "cell_type": "code",
   "execution_count": 10,
   "metadata": {},
   "outputs": [
    {
     "data": {
      "text/plain": [
       "{'rig__alpha': 4}"
      ]
     },
     "execution_count": 10,
     "metadata": {},
     "output_type": "execute_result"
    }
   ],
   "source": [
    "ridge_grid.best_params_"
   ]
  },
  {
   "cell_type": "code",
   "execution_count": 11,
   "metadata": {},
   "outputs": [
    {
     "name": "stdout",
     "output_type": "stream",
     "text": [
      "Results: 0.01239481 0.007884\n"
     ]
    },
    {
     "name": "stderr",
     "output_type": "stream",
     "text": [
      "/anaconda3/envs/Kaggle/lib/python3.6/site-packages/sklearn/linear_model/coordinate_descent.py:492: ConvergenceWarning: Objective did not converge. You might want to increase the number of iterations. Fitting data with very small alpha may cause precision problems.\n",
      "  ConvergenceWarning)\n"
     ]
    }
   ],
   "source": [
    "elastic_pipe = Pipeline(steps=[('preprocessor', preprocessor), \n",
    "                               ('elastic', ElasticNet(normalize=False,random_state=np.random.seed(seed)))])\n",
    "\n",
    "elastic_param_grid = {'elastic__alpha' : [1e-05, 1e-04, 0.0001, 0.001, 0.01, 0.1, 0.2, 0.3, 0.4],\n",
    "                      'elastic__l1_ratio' : [0.2, 0.3, 0.4, 0.5, 0.85, 0.95, 0.9, 1.0]}\n",
    "\n",
    "elastic_grid = GridSearchCV(elastic_pipe, param_grid=elastic_param_grid, cv=5, scoring='neg_mean_squared_error', n_jobs=-1)\n",
    "\n",
    "elastic_grid.fit(house_train_staging.copy(), house_labels)\n",
    "\n",
    "elastic_grid_pred = elastic_grid.best_estimator_.named_steps['elastic'].predict(house_train)\n",
    "\n",
    "elastic_rmse = rmsle(house_labels, elastic_grid_pred)\n",
    "\n",
    "elastic_grid_best = elastic_grid.best_estimator_.named_steps['elastic']\n",
    "\n",
    "print('Results: {:,.8f} {:8f}'.format(-elastic_grid.best_score_, elastic_rmse))"
   ]
  },
  {
   "cell_type": "code",
   "execution_count": 12,
   "metadata": {},
   "outputs": [
    {
     "name": "stdout",
     "output_type": "stream",
     "text": [
      "Results: 0.012395 0.007884\n"
     ]
    }
   ],
   "source": [
    "print('Results: {:8f} {:8f}'.format(-elastic_grid.best_score_, elastic_rmse))"
   ]
  },
  {
   "cell_type": "code",
   "execution_count": 13,
   "metadata": {},
   "outputs": [
    {
     "data": {
      "text/plain": [
       "{'elastic__alpha': 0.001, 'elastic__l1_ratio': 0.4}"
      ]
     },
     "execution_count": 13,
     "metadata": {},
     "output_type": "execute_result"
    }
   ],
   "source": [
    "elastic_grid.best_params_"
   ]
  },
  {
   "cell_type": "code",
   "execution_count": 14,
   "metadata": {},
   "outputs": [
    {
     "name": "stdout",
     "output_type": "stream",
     "text": [
      "Results: 0.01493900 0.003954\n"
     ]
    }
   ],
   "source": [
    "from sklearn.svm import SVR\n",
    "\n",
    "svm_pipe = Pipeline(steps=[('preprocessor', preprocessor), ('svm', SVR(gamma='scale'))])\n",
    "\n",
    "svm_param_grid =  {'svm__C' : [1e-7, 1e-6, 1e-5, 0.0001, 0.001, 0.01, 0.1, 1, 2],\n",
    "                   'svm__epsilon' : [0.0001, 0.001, 0.01, 0.1, 1, 2, 3, 4]}\n",
    "\n",
    "svm_grid = GridSearchCV(svm_pipe, param_grid=svm_param_grid, cv=5, scoring='neg_mean_squared_error', n_jobs=-1)\n",
    "\n",
    "svm_grid.fit(house_train_staging.copy(), house_labels)\n",
    "\n",
    "svm_grid_pred = svm_grid.best_estimator_.named_steps['svm'].predict(house_train)\n",
    "\n",
    "svm_rmse = rmsle(house_labels, svm_grid_pred)\n",
    "\n",
    "svm_grid_best = svm_grid.best_estimator_.named_steps['svm']\n",
    "\n",
    "print('Results: {:,.8f} {:8f}'.format(-svm_grid.best_score_, svm_rmse))"
   ]
  },
  {
   "cell_type": "code",
   "execution_count": 15,
   "metadata": {},
   "outputs": [
    {
     "name": "stdout",
     "output_type": "stream",
     "text": [
      "Results: 0.014939 0.003954\n"
     ]
    }
   ],
   "source": [
    "print('Results: {:8f} {:8f}'.format(-svm_grid.best_score_, svm_rmse))"
   ]
  },
  {
   "cell_type": "code",
   "execution_count": 16,
   "metadata": {},
   "outputs": [
    {
     "data": {
      "text/plain": [
       "{'svm__C': 1, 'svm__epsilon': 0.0001}"
      ]
     },
     "execution_count": 16,
     "metadata": {},
     "output_type": "execute_result"
    }
   ],
   "source": [
    "svm_grid.best_params_"
   ]
  },
  {
   "cell_type": "code",
   "execution_count": 17,
   "metadata": {},
   "outputs": [
    {
     "name": "stdout",
     "output_type": "stream",
     "text": [
      "Results: 0.01645222 0.00367411\n"
     ]
    }
   ],
   "source": [
    "from sklearn.ensemble import RandomForestRegressor\n",
    "\n",
    "rf_pipe = Pipeline(steps=[('preprocessor', preprocessor), \n",
    "                          ('rf', RandomForestRegressor(random_state=np.random.seed(seed), n_jobs=-1))])\n",
    "\n",
    "rf_param_grid =  {'rf__max_depth' : [2, 3, 4, 5, 6, 7, 8, 9, 20, 25, 30, 35],\n",
    "                   'rf__n_estimators' : [400, 300, 200, 500, 600, 700, 800, 900, 100],\n",
    "                   'rf__max_features': ['sqrt']}\n",
    "\n",
    "rf_grid = GridSearchCV(rf_pipe, param_grid=rf_param_grid, cv=5, scoring='neg_mean_squared_error', n_jobs=-1)\n",
    "\n",
    "rf_grid.fit(house_train_staging.copy(), house_labels)\n",
    "\n",
    "rf_grid_pred = rf_grid.best_estimator_.named_steps['rf'].predict(house_train)\n",
    "\n",
    "rf_rmse = rmsle(house_labels, rf_grid_pred)\n",
    "\n",
    "rf_grid_best = rf_grid.best_estimator_.named_steps['rf']\n",
    "\n",
    "print('Results: {:,.8f} {:.8f}'.format(-rf_grid.best_score_, rf_rmse))"
   ]
  },
  {
   "cell_type": "code",
   "execution_count": 18,
   "metadata": {},
   "outputs": [
    {
     "name": "stdout",
     "output_type": "stream",
     "text": [
      "Results: 0.016452 0.003674\n"
     ]
    }
   ],
   "source": [
    "print('Results: {:8f} {:8f}'.format(-rf_grid.best_score_, rf_rmse))"
   ]
  },
  {
   "cell_type": "code",
   "execution_count": 19,
   "metadata": {},
   "outputs": [
    {
     "data": {
      "text/plain": [
       "{'rf__max_depth': 20, 'rf__max_features': 'sqrt', 'rf__n_estimators': 600}"
      ]
     },
     "execution_count": 19,
     "metadata": {},
     "output_type": "execute_result"
    }
   ],
   "source": [
    "rf_grid.best_params_"
   ]
  },
  {
   "cell_type": "code",
   "execution_count": 20,
   "metadata": {},
   "outputs": [
    {
     "name": "stdout",
     "output_type": "stream",
     "text": [
      "Results: 0.013774 0.002529\n"
     ]
    }
   ],
   "source": [
    "from sklearn.ensemble import GradientBoostingRegressor\n",
    "\n",
    "gbr_pipe = Pipeline(steps=[('preprocessor', preprocessor),\n",
    "                           ('gbr', GradientBoostingRegressor(random_state=np.random.seed(seed)))])\n",
    "\n",
    "gbr_param_grid = {'gbr__max_depth' : [4, 5, 6],\n",
    "                  'gbr__n_estimators' : [300, 350, 400],\n",
    "                  'gbr__learning_rate' : [0.1, 0.2, 0.3],\n",
    "                  'gbr__subsample' : [0.5, 0.6, 0.7]}\n",
    "\n",
    "gbr_grid = GridSearchCV(gbr_pipe, param_grid=gbr_param_grid, cv=5, scoring='neg_mean_squared_error', n_jobs=-1)\n",
    "\n",
    "gbr_grid.fit(house_train_staging.copy(), house_labels)\n",
    "\n",
    "gbr_grid_pred = gbr_grid.best_estimator_.named_steps['gbr'].predict(house_train)\n",
    "\n",
    "gbr_rmse = rmsle(house_labels, gbr_grid_pred)\n",
    "\n",
    "gbr_grid_best = gbr_grid.best_estimator_.named_steps['gbr']\n",
    "\n",
    "print('Results: {:8f} {:8f}'.format(-gbr_grid.best_score_, gbr_rmse))"
   ]
  },
  {
   "cell_type": "code",
   "execution_count": 21,
   "metadata": {},
   "outputs": [
    {
     "name": "stdout",
     "output_type": "stream",
     "text": [
      "Results: 0.013774 0.002529\n"
     ]
    }
   ],
   "source": [
    "print('Results: {:8f} {:8f}'.format(-gbr_grid.best_score_, gbr_rmse))"
   ]
  },
  {
   "cell_type": "code",
   "execution_count": 22,
   "metadata": {},
   "outputs": [
    {
     "data": {
      "text/plain": [
       "{'gbr__learning_rate': 0.1,\n",
       " 'gbr__max_depth': 4,\n",
       " 'gbr__n_estimators': 300,\n",
       " 'gbr__subsample': 0.5}"
      ]
     },
     "execution_count": 22,
     "metadata": {},
     "output_type": "execute_result"
    }
   ],
   "source": [
    "gbr_grid.best_params_"
   ]
  },
  {
   "cell_type": "code",
   "execution_count": 23,
   "metadata": {},
   "outputs": [
    {
     "name": "stdout",
     "output_type": "stream",
     "text": [
      "Results: 0.030034 0.007720\n"
     ]
    }
   ],
   "source": [
    "from sklearn.tree import DecisionTreeRegressor\n",
    "\n",
    "dtr_pipe = Pipeline(steps=[('preprocessor', preprocessor), \n",
    "                           ('dtr', DecisionTreeRegressor(random_state=np.random.seed(seed)))])\n",
    "\n",
    "dtr_param_grid = {'dtr__max_depth' : [2, 3, 4, 5, 6, 7, 8, 9, 10, 11],\n",
    "                   'dtr__max_features': ['auto', 'sqrt', 'log2']}\n",
    "\n",
    "dtr_grid = GridSearchCV(dtr_pipe, param_grid=dtr_param_grid, cv=5, scoring='neg_mean_squared_error', n_jobs=-1)\n",
    "\n",
    "dtr_grid.fit(house_train_staging.copy(), house_labels)\n",
    "\n",
    "dtr_grid_pred = dtr_grid.best_estimator_.named_steps['dtr'].predict(house_train)\n",
    "\n",
    "dtr_rmse = rmsle(house_labels, dtr_grid_pred)\n",
    "\n",
    "# Store the tree to be used in Ada\n",
    "tree_grid_cv = dtr_grid.best_estimator_.named_steps['dtr']\n",
    "\n",
    "print('Results: {:8f} {:8f}'.format(-dtr_grid.best_score_, dtr_rmse))"
   ]
  },
  {
   "cell_type": "code",
   "execution_count": 24,
   "metadata": {},
   "outputs": [
    {
     "name": "stdout",
     "output_type": "stream",
     "text": [
      "Results: 0.030034 0.007720\n"
     ]
    }
   ],
   "source": [
    "print('Results: {:8f} {:8f}'.format(-dtr_grid.best_score_, dtr_rmse))"
   ]
  },
  {
   "cell_type": "code",
   "execution_count": 25,
   "metadata": {},
   "outputs": [
    {
     "data": {
      "text/plain": [
       "{'dtr__max_depth': 7, 'dtr__max_features': 'auto'}"
      ]
     },
     "execution_count": 25,
     "metadata": {},
     "output_type": "execute_result"
    }
   ],
   "source": [
    "dtr_grid.best_params_"
   ]
  },
  {
   "cell_type": "code",
   "execution_count": 26,
   "metadata": {},
   "outputs": [
    {
     "name": "stdout",
     "output_type": "stream",
     "text": [
      "Results: 0.016360 0.004601\n"
     ]
    }
   ],
   "source": [
    "from sklearn.ensemble import AdaBoostRegressor\n",
    "\n",
    "ada_pipe = Pipeline(steps=[('preprocessor', preprocessor),\n",
    "                           ('ada', AdaBoostRegressor(tree_grid_cv, random_state=np.random.seed(seed)))])\n",
    "\n",
    "ada_param_grid = {'ada__n_estimators' : [300, 400, 450, 500],\n",
    "                  'ada__learning_rate' : [0.8, 0.9, 1.0],\n",
    "                  'ada__loss' : ['linear', 'square', 'exponential']}\n",
    "\n",
    "ada_grid = GridSearchCV(ada_pipe, param_grid=ada_param_grid, scoring='neg_mean_squared_error', cv=5, n_jobs=-1)\n",
    "\n",
    "ada_grid.fit(house_train_staging.copy(), house_labels)\n",
    "\n",
    "ada_grid_pred = ada_grid.best_estimator_.named_steps['ada'].predict(house_train)\n",
    "\n",
    "ada_rmse = rmsle(house_labels, ada_grid_pred)\n",
    "\n",
    "ada_grid_best = ada_grid.best_estimator_.named_steps['ada']\n",
    "\n",
    "print('Results: {:8f} {:8f}'.format(-ada_grid.best_score_, ada_rmse))"
   ]
  },
  {
   "cell_type": "code",
   "execution_count": 27,
   "metadata": {},
   "outputs": [
    {
     "name": "stdout",
     "output_type": "stream",
     "text": [
      "Results: 0.016360 0.004601\n"
     ]
    }
   ],
   "source": [
    "print('Results: {:8f} {:8f}'.format(-ada_grid.best_score_, ada_rmse))"
   ]
  },
  {
   "cell_type": "code",
   "execution_count": 28,
   "metadata": {},
   "outputs": [
    {
     "data": {
      "text/plain": [
       "{'ada__learning_rate': 1.0, 'ada__loss': 'square', 'ada__n_estimators': 500}"
      ]
     },
     "execution_count": 28,
     "metadata": {},
     "output_type": "execute_result"
    }
   ],
   "source": [
    "ada_grid.best_params_"
   ]
  },
  {
   "cell_type": "code",
   "execution_count": 30,
   "metadata": {},
   "outputs": [
    {
     "name": "stderr",
     "output_type": "stream",
     "text": [
      "/anaconda3/envs/Kaggle/lib/python3.6/site-packages/sklearn/linear_model/coordinate_descent.py:492: ConvergenceWarning: Objective did not converge. You might want to increase the number of iterations. Fitting data with very small alpha may cause precision problems.\n",
      "  ConvergenceWarning)\n"
     ]
    },
    {
     "name": "stdout",
     "output_type": "stream",
     "text": [
      "5-fold cross validation scores:\n",
      "\n"
     ]
    },
    {
     "name": "stderr",
     "output_type": "stream",
     "text": [
      "/anaconda3/envs/Kaggle/lib/python3.6/site-packages/sklearn/linear_model/coordinate_descent.py:492: ConvergenceWarning: Objective did not converge. You might want to increase the number of iterations. Fitting data with very small alpha may cause precision problems.\n",
      "  ConvergenceWarning)\n",
      "/anaconda3/envs/Kaggle/lib/python3.6/site-packages/sklearn/linear_model/coordinate_descent.py:492: ConvergenceWarning: Objective did not converge. You might want to increase the number of iterations. Fitting data with very small alpha may cause precision problems.\n",
      "  ConvergenceWarning)\n",
      "/anaconda3/envs/Kaggle/lib/python3.6/site-packages/sklearn/linear_model/coordinate_descent.py:492: ConvergenceWarning: Objective did not converge. You might want to increase the number of iterations. Fitting data with very small alpha may cause precision problems.\n",
      "  ConvergenceWarning)\n",
      "/anaconda3/envs/Kaggle/lib/python3.6/site-packages/sklearn/linear_model/coordinate_descent.py:492: ConvergenceWarning: Objective did not converge. You might want to increase the number of iterations. Fitting data with very small alpha may cause precision problems.\n",
      "  ConvergenceWarning)\n",
      "/anaconda3/envs/Kaggle/lib/python3.6/site-packages/sklearn/linear_model/coordinate_descent.py:492: ConvergenceWarning: Objective did not converge. You might want to increase the number of iterations. Fitting data with very small alpha may cause precision problems.\n",
      "  ConvergenceWarning)\n"
     ]
    },
    {
     "name": "stdout",
     "output_type": "stream",
     "text": [
      "R^2 Score: 0.91% (+/-0.01%) Lasso\n",
      "R^2 Score: 0.91% (+/-0.01%) Ridge\n",
      "R^2 Score: 0.90% (+/-0.01%) SVM\n",
      "R^2 Score: 0.90% (+/-0.01%) GBR\n",
      "R^2 Score: 0.89% (+/-0.01%) ADA\n"
     ]
    },
    {
     "name": "stderr",
     "output_type": "stream",
     "text": [
      "/anaconda3/envs/Kaggle/lib/python3.6/site-packages/sklearn/linear_model/coordinate_descent.py:492: ConvergenceWarning: Objective did not converge. You might want to increase the number of iterations. Fitting data with very small alpha may cause precision problems.\n",
      "  ConvergenceWarning)\n",
      "/anaconda3/envs/Kaggle/lib/python3.6/site-packages/sklearn/linear_model/coordinate_descent.py:492: ConvergenceWarning: Objective did not converge. You might want to increase the number of iterations. Fitting data with very small alpha may cause precision problems.\n",
      "  ConvergenceWarning)\n",
      "/anaconda3/envs/Kaggle/lib/python3.6/site-packages/sklearn/linear_model/coordinate_descent.py:492: ConvergenceWarning: Objective did not converge. You might want to increase the number of iterations. Fitting data with very small alpha may cause precision problems.\n",
      "  ConvergenceWarning)\n",
      "/anaconda3/envs/Kaggle/lib/python3.6/site-packages/sklearn/linear_model/coordinate_descent.py:492: ConvergenceWarning: Objective did not converge. You might want to increase the number of iterations. Fitting data with very small alpha may cause precision problems.\n",
      "  ConvergenceWarning)\n",
      "/anaconda3/envs/Kaggle/lib/python3.6/site-packages/sklearn/linear_model/coordinate_descent.py:492: ConvergenceWarning: Objective did not converge. You might want to increase the number of iterations. Fitting data with very small alpha may cause precision problems.\n",
      "  ConvergenceWarning)\n"
     ]
    },
    {
     "name": "stdout",
     "output_type": "stream",
     "text": [
      "R^2 Score: 0.91% (+/-0.01%) StackingRegressor\n",
      "0.0008343432679361114\n"
     ]
    }
   ],
   "source": [
    "from mlxtend.regressor import StackingRegressor\n",
    "\n",
    "# The StackingCVRegressor uses scikit-learn's check_cv\n",
    "# internally, which doesn't support a random seed. Thus\n",
    "# NumPy's random seed need to be specified explicitely for\n",
    "# deterministic behavior\n",
    "\n",
    "RANDOM_SEED = 42\n",
    "np.random.seed(RANDOM_SEED)\n",
    "\n",
    "regressors = (lasso_grid_best, ridge_grid_best, svm_grid_best,\n",
    "              gbr_grid_best, ada_grid_best)\n",
    "\n",
    "stack = StackingRegressor(regressors=regressors,\n",
    "                            meta_regressor=rf_grid_best).fit(house_train, house_labels)\n",
    "\n",
    "stack_rmse = rmsle(house_labels, stack.predict(house_train))\n",
    "\n",
    "print('5-fold cross validation scores:\\n')\n",
    "\n",
    "for regressors, label in zip([lasso_grid_best, ridge_grid_best, svm_grid_best,\n",
    "              gbr_grid_best, ada_grid_best, stack], ['Lasso', 'Ridge', 'SVM', 'GBR', 'ADA', \n",
    "                                                'StackingRegressor']):\n",
    "    scores = cross_val_score(regressors, house_train, house_labels, cv=5)\n",
    "    print(\"R^2 Score: {:0.2f}% (+/-{:0.2f}%) {}\".format(scores.mean(), scores.std(), label))\n",
    "    \n",
    "print(stack_rmse)"
   ]
  },
  {
   "cell_type": "code",
   "execution_count": 31,
   "metadata": {},
   "outputs": [
    {
     "name": "stdout",
     "output_type": "stream",
     "text": [
      "R^2 Score: 0.91% (+/-0.01%) 0.00083434\n"
     ]
    }
   ],
   "source": [
    "print(\"R^2 Score: {:0.2f}% (+/-{:0.2f}%) {:0.8f}\".format(scores.mean(), scores.std(), stack_rmse))"
   ]
  },
  {
   "cell_type": "code",
   "execution_count": 32,
   "metadata": {},
   "outputs": [],
   "source": [
    "from sklearn.preprocessing import MinMaxScaler\n",
    "\n",
    "numeric_transformer = Pipeline(steps=[\n",
    "    ('imputer', SimpleImputer(strategy='median')),\n",
    "    ('scaler', MinMaxScaler())])\n",
    "\n",
    "categorical_transformer = Pipeline(steps=[\n",
    "    ('onehot', OneHotEncoder(handle_unknown='ignore', sparse=False))])\n",
    "\n",
    "nn_preprocessor = ColumnTransformer(\n",
    "    transformers=[\n",
    "        ('num', numeric_transformer, numeric_features),\n",
    "        ('onehot', OneHotEncoder(handle_unknown='ignore', sparse=False), selected_categorical_onehot)\n",
    "    ])\n",
    "\n",
    "nn_train = nn_preprocessor.fit_transform(house_train_staging.copy())"
   ]
  },
  {
   "cell_type": "code",
   "execution_count": 33,
   "metadata": {},
   "outputs": [
    {
     "name": "stderr",
     "output_type": "stream",
     "text": [
      "Using TensorFlow backend.\n"
     ]
    }
   ],
   "source": [
    "from keras.models import Sequential\n",
    "from keras.layers import Dense, Dropout\n",
    "from keras.wrappers.scikit_learn import KerasRegressor\n",
    "from keras.losses import mean_squared_logarithmic_error\n",
    "\n",
    "# define base model\n",
    "def baseline_model():\n",
    "    # create model\n",
    "    model = Sequential()\n",
    "    model.add(Dense(np.shape(house_train)[1], input_dim=np.shape(house_train)[1], kernel_initializer='normal',\n",
    "                    activation='relu'))\n",
    "    model.add(Dropout(0.2))\n",
    "    model.add(Dense(1, kernel_initializer='normal'))\n",
    "    # Compile model\n",
    "    model.compile(loss='mean_squared_error', optimizer='adam')\n",
    "    return model"
   ]
  },
  {
   "cell_type": "code",
   "execution_count": null,
   "metadata": {},
   "outputs": [
    {
     "name": "stdout",
     "output_type": "stream",
     "text": [
      "Epoch 1/300\n"
     ]
    }
   ],
   "source": [
    "# fix random seed for reproducibility\n",
    "seed = 7\n",
    "np.random.seed(seed)\n",
    "# evaluate model with standardized dataset\n",
    "\n",
    "nn_estimator = KerasRegressor(build_fn=baseline_model, epochs=300, batch_size=128, verbose=1)\n",
    "\n",
    "nn_estimator.fit(house_train, house_labels)\n",
    "\n",
    "results = cross_val_score(nn_estimator, house_train, house_labels, cv=5, n_jobs =1)\n",
    "score = nn_estimator.score(house_train, house_labels)\n",
    "rmse = rmsle(house_labels, nn_estimator.predict(house_train))\n",
    "\n",
    "print(\"Results: {:.2f}% ({:.2f}%) {:.5f} {:.5f}\".format(results.mean()*100, results.std()*100, score, rmse))"
   ]
  },
  {
   "cell_type": "code",
   "execution_count": 67,
   "metadata": {},
   "outputs": [],
   "source": [
    "def kaggle_submission(estimator, test_set, test_source):\n",
    "    \"\"\"\n",
    "    Create a csv to submit predictions to Kaggle.\n",
    "    \n",
    "    estimator: Sci-kit estimator used on training set.\n",
    "    test_set: The transformed test set.\n",
    "    test_source: The original test set, which contains the Id column.\n",
    "    \"\"\"\n",
    "    submission = pd.DataFrame(index=test_source.index)\n",
    "    submission['Id'] = pd.DataFrame(test_source['Id'])\n",
    "    submission['SalePrice'] = pd.DataFrame(np.expm1(estimator.predict(test_set)), columns=['SalePrice'])\n",
    "    \n",
    "    return submission\n",
    "\n",
    "predictions = kaggle_submission(stack, house_test_data, house_test)"
   ]
  },
  {
   "cell_type": "code",
   "execution_count": 68,
   "metadata": {},
   "outputs": [],
   "source": [
    "predictions.to_csv('stack_reduced_with_featuring_submission.csv', index=False)"
   ]
  }
 ],
 "metadata": {
  "kernelspec": {
   "display_name": "Python 3",
   "language": "python",
   "name": "python3"
  },
  "language_info": {
   "codemirror_mode": {
    "name": "ipython",
    "version": 3
   },
   "file_extension": ".py",
   "mimetype": "text/x-python",
   "name": "python",
   "nbconvert_exporter": "python",
   "pygments_lexer": "ipython3",
   "version": "3.6.8"
  }
 },
 "nbformat": 4,
 "nbformat_minor": 2
}
